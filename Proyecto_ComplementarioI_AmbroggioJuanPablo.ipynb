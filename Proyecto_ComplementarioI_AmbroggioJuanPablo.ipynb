{
 "cells": [
  {
   "cell_type": "markdown",
   "id": "890299ad",
   "metadata": {},
   "source": [
    "## Overfiting o Underfitting"
   ]
  },
  {
   "cell_type": "code",
   "execution_count": 21,
   "id": "f05a45ec",
   "metadata": {},
   "outputs": [],
   "source": [
    " from sklearn.datasets import load_breast_cancer\n",
    " from sklearn.ensemble import RandomForestClassifier\n",
    " from sklearn.model_selection import train_test_split\n",
    " from sklearn import metrics\n",
    " import pandas as pd\n",
    " import numpy as np\n",
    " from matplotlib import pyplot as plt\n",
    " import seaborn as sns\n",
    " sns.set_style('whitegrid')"
   ]
  },
  {
   "cell_type": "code",
   "execution_count": 2,
   "id": "57bc3972",
   "metadata": {},
   "outputs": [
    {
     "name": "stdout",
     "output_type": "stream",
     "text": [
      "       anio        mes        dia       fecha franja                   tipo  \\\n",
      "88557  2021  Diciembre     Jueves  23/12/2021     10  Hurto (sin violencia)   \n",
      "88558  2021     Agosto     Jueves  05/08/2021     19   Robo (con violencia)   \n",
      "88559  2021  Diciembre     Sábado  25/12/2021      3   Robo (con violencia)   \n",
      "88560  2021  Noviembre    Viernes  19/11/2021      0   Robo (con violencia)   \n",
      "88561  2021  Diciembre     Martes  21/12/2021     12   Robo (con violencia)   \n",
      "88562  2021       Mayo     Sábado  08/05/2021     10  Hurto (sin violencia)   \n",
      "88563  2021      Junio     Martes  29/06/2021     21   Robo (con violencia)   \n",
      "88564  2021      Junio  Miércoles  30/06/2021     13   Robo (con violencia)   \n",
      "88565  2021      Julio     Sábado  31/07/2021      1  Hurto (sin violencia)   \n",
      "88566  2021    Octubre  Miércoles  06/10/2021     14  Hurto (sin violencia)   \n",
      "\n",
      "      subtipo uso_armas         barrio  comuna     latitud    longitud  \\\n",
      "88557     NaN       NaN      Caballito     6.0  -34,604397  -58,436567   \n",
      "88558     NaN       NaN         Retiro     1.0  -34,592907  -58,375528   \n",
      "88559     NaN       NaN  Nueva Pompeya     4.0  -34,642978  -58,431046   \n",
      "88560     NaN       NaN         Retiro     1.0  -34,595955  -58,386955   \n",
      "88561     NaN       NaN       Recoleta     2.0  -34,590128  -58,402253   \n",
      "88562     NaN       NaN      Balvanera     3.0  -34,605751  -58,395375   \n",
      "88563     NaN       NaN        Palermo    14.0   -34,59266  -58,422338   \n",
      "88564     NaN       NaN      Balvanera     3.0  -34,608791  -58,404617   \n",
      "88565     NaN       NaN      Balvanera     3.0  -34,603284  -58,394526   \n",
      "88566     NaN       NaN    San Nicolás     1.0  -34,604575  -58,392075   \n",
      "\n",
      "       cantidad  \n",
      "88557         1  \n",
      "88558         1  \n",
      "88559         1  \n",
      "88560         1  \n",
      "88561         1  \n",
      "88562         1  \n",
      "88563         1  \n",
      "88564         1  \n",
      "88565         1  \n",
      "88566         2  \n"
     ]
    }
   ],
   "source": [
    "df_delito = pd.read_csv('delitos_2021.csv', sep=\";\")\n",
    "print(df_delito.tail(10))"
   ]
  },
  {
   "cell_type": "code",
   "execution_count": 3,
   "id": "b4937434",
   "metadata": {},
   "outputs": [
    {
     "data": {
      "text/html": [
       "<div>\n",
       "<style scoped>\n",
       "    .dataframe tbody tr th:only-of-type {\n",
       "        vertical-align: middle;\n",
       "    }\n",
       "\n",
       "    .dataframe tbody tr th {\n",
       "        vertical-align: top;\n",
       "    }\n",
       "\n",
       "    .dataframe thead th {\n",
       "        text-align: right;\n",
       "    }\n",
       "</style>\n",
       "<table border=\"1\" class=\"dataframe\">\n",
       "  <thead>\n",
       "    <tr style=\"text-align: right;\">\n",
       "      <th></th>\n",
       "      <th>anio</th>\n",
       "      <th>mes</th>\n",
       "      <th>dia</th>\n",
       "      <th>fecha</th>\n",
       "      <th>franja</th>\n",
       "      <th>tipo</th>\n",
       "      <th>subtipo</th>\n",
       "      <th>uso_armas</th>\n",
       "      <th>barrio</th>\n",
       "      <th>comuna</th>\n",
       "      <th>latitud</th>\n",
       "      <th>longitud</th>\n",
       "      <th>cantidad</th>\n",
       "    </tr>\n",
       "  </thead>\n",
       "  <tbody>\n",
       "    <tr>\n",
       "      <th>0</th>\n",
       "      <td>2021</td>\n",
       "      <td>Enero</td>\n",
       "      <td>Miércoles</td>\n",
       "      <td>06/01/2021</td>\n",
       "      <td>18</td>\n",
       "      <td>Homicidio</td>\n",
       "      <td>Siniestro Vial</td>\n",
       "      <td>NaN</td>\n",
       "      <td>Constitución</td>\n",
       "      <td>1.0</td>\n",
       "      <td>-34,62761</td>\n",
       "      <td>-58,379146</td>\n",
       "      <td>1</td>\n",
       "    </tr>\n",
       "    <tr>\n",
       "      <th>1</th>\n",
       "      <td>2021</td>\n",
       "      <td>Enero</td>\n",
       "      <td>Jueves</td>\n",
       "      <td>07/01/2021</td>\n",
       "      <td>10</td>\n",
       "      <td>Homicidio</td>\n",
       "      <td>Siniestro Vial</td>\n",
       "      <td>NaN</td>\n",
       "      <td>Mataderos</td>\n",
       "      <td>9.0</td>\n",
       "      <td>-34,64972969</td>\n",
       "      <td>-58,51058958</td>\n",
       "      <td>1</td>\n",
       "    </tr>\n",
       "    <tr>\n",
       "      <th>2</th>\n",
       "      <td>2021</td>\n",
       "      <td>Enero</td>\n",
       "      <td>Domingo</td>\n",
       "      <td>10/01/2021</td>\n",
       "      <td>7</td>\n",
       "      <td>Homicidio</td>\n",
       "      <td>Siniestro Vial</td>\n",
       "      <td>NaN</td>\n",
       "      <td>Parque Chacabuco</td>\n",
       "      <td>7.0</td>\n",
       "      <td>-34,62917196</td>\n",
       "      <td>-58,43058079</td>\n",
       "      <td>1</td>\n",
       "    </tr>\n",
       "    <tr>\n",
       "      <th>3</th>\n",
       "      <td>2021</td>\n",
       "      <td>Enero</td>\n",
       "      <td>Lunes</td>\n",
       "      <td>11/01/2021</td>\n",
       "      <td>9</td>\n",
       "      <td>Homicidio</td>\n",
       "      <td>Siniestro Vial</td>\n",
       "      <td>NaN</td>\n",
       "      <td>Nueva Pompeya</td>\n",
       "      <td>5.0</td>\n",
       "      <td>-34,63867577</td>\n",
       "      <td>-58,4145554</td>\n",
       "      <td>1</td>\n",
       "    </tr>\n",
       "    <tr>\n",
       "      <th>4</th>\n",
       "      <td>2021</td>\n",
       "      <td>Enero</td>\n",
       "      <td>Lunes</td>\n",
       "      <td>11/01/2021</td>\n",
       "      <td>21</td>\n",
       "      <td>Homicidio</td>\n",
       "      <td>Siniestro Vial</td>\n",
       "      <td>NaN</td>\n",
       "      <td>Parque Avellaneda</td>\n",
       "      <td>9.0</td>\n",
       "      <td>-34,64771436</td>\n",
       "      <td>-58,46806552</td>\n",
       "      <td>1</td>\n",
       "    </tr>\n",
       "  </tbody>\n",
       "</table>\n",
       "</div>"
      ],
      "text/plain": [
       "   anio    mes        dia       fecha franja       tipo         subtipo  \\\n",
       "0  2021  Enero  Miércoles  06/01/2021     18  Homicidio  Siniestro Vial   \n",
       "1  2021  Enero     Jueves  07/01/2021     10  Homicidio  Siniestro Vial   \n",
       "2  2021  Enero    Domingo  10/01/2021      7  Homicidio  Siniestro Vial   \n",
       "3  2021  Enero      Lunes  11/01/2021      9  Homicidio  Siniestro Vial   \n",
       "4  2021  Enero      Lunes  11/01/2021     21  Homicidio  Siniestro Vial   \n",
       "\n",
       "  uso_armas             barrio  comuna       latitud      longitud  cantidad  \n",
       "0       NaN       Constitución     1.0     -34,62761    -58,379146         1  \n",
       "1       NaN          Mataderos     9.0  -34,64972969  -58,51058958         1  \n",
       "2       NaN   Parque Chacabuco     7.0  -34,62917196  -58,43058079         1  \n",
       "3       NaN      Nueva Pompeya     5.0  -34,63867577   -58,4145554         1  \n",
       "4       NaN  Parque Avellaneda     9.0  -34,64771436  -58,46806552         1  "
      ]
     },
     "execution_count": 3,
     "metadata": {},
     "output_type": "execute_result"
    }
   ],
   "source": [
    "df_delito.head()"
   ]
  },
  {
   "cell_type": "code",
   "execution_count": 10,
   "id": "b987bf74",
   "metadata": {},
   "outputs": [
    {
     "data": {
      "text/html": [
       "<div>\n",
       "<style scoped>\n",
       "    .dataframe tbody tr th:only-of-type {\n",
       "        vertical-align: middle;\n",
       "    }\n",
       "\n",
       "    .dataframe tbody tr th {\n",
       "        vertical-align: top;\n",
       "    }\n",
       "\n",
       "    .dataframe thead th {\n",
       "        text-align: right;\n",
       "    }\n",
       "</style>\n",
       "<table border=\"1\" class=\"dataframe\">\n",
       "  <thead>\n",
       "    <tr style=\"text-align: right;\">\n",
       "      <th></th>\n",
       "      <th>anio</th>\n",
       "      <th>comuna</th>\n",
       "      <th>cantidad</th>\n",
       "    </tr>\n",
       "  </thead>\n",
       "  <tbody>\n",
       "    <tr>\n",
       "      <th>count</th>\n",
       "      <td>88567.0</td>\n",
       "      <td>87907.000000</td>\n",
       "      <td>88567.000000</td>\n",
       "    </tr>\n",
       "    <tr>\n",
       "      <th>mean</th>\n",
       "      <td>2021.0</td>\n",
       "      <td>7.538899</td>\n",
       "      <td>1.184143</td>\n",
       "    </tr>\n",
       "    <tr>\n",
       "      <th>std</th>\n",
       "      <td>0.0</td>\n",
       "      <td>4.554293</td>\n",
       "      <td>0.666930</td>\n",
       "    </tr>\n",
       "    <tr>\n",
       "      <th>min</th>\n",
       "      <td>2021.0</td>\n",
       "      <td>0.000000</td>\n",
       "      <td>1.000000</td>\n",
       "    </tr>\n",
       "    <tr>\n",
       "      <th>25%</th>\n",
       "      <td>2021.0</td>\n",
       "      <td>4.000000</td>\n",
       "      <td>1.000000</td>\n",
       "    </tr>\n",
       "    <tr>\n",
       "      <th>50%</th>\n",
       "      <td>2021.0</td>\n",
       "      <td>7.000000</td>\n",
       "      <td>1.000000</td>\n",
       "    </tr>\n",
       "    <tr>\n",
       "      <th>75%</th>\n",
       "      <td>2021.0</td>\n",
       "      <td>12.000000</td>\n",
       "      <td>1.000000</td>\n",
       "    </tr>\n",
       "    <tr>\n",
       "      <th>max</th>\n",
       "      <td>2021.0</td>\n",
       "      <td>15.000000</td>\n",
       "      <td>10.000000</td>\n",
       "    </tr>\n",
       "  </tbody>\n",
       "</table>\n",
       "</div>"
      ],
      "text/plain": [
       "          anio        comuna      cantidad\n",
       "count  88567.0  87907.000000  88567.000000\n",
       "mean    2021.0      7.538899      1.184143\n",
       "std        0.0      4.554293      0.666930\n",
       "min     2021.0      0.000000      1.000000\n",
       "25%     2021.0      4.000000      1.000000\n",
       "50%     2021.0      7.000000      1.000000\n",
       "75%     2021.0     12.000000      1.000000\n",
       "max     2021.0     15.000000     10.000000"
      ]
     },
     "execution_count": 10,
     "metadata": {},
     "output_type": "execute_result"
    }
   ],
   "source": [
    "df_delito.shape\n",
    "df_delito.describe()"
   ]
  },
  {
   "cell_type": "markdown",
   "id": "b85ce61f",
   "metadata": {},
   "source": [
    "### Normalizacion de Datos"
   ]
  },
  {
   "cell_type": "code",
   "execution_count": 15,
   "id": "b2d5f8df",
   "metadata": {},
   "outputs": [
    {
     "data": {
      "text/plain": [
       "<seaborn.axisgrid.PairGrid at 0x2325abe25b0>"
      ]
     },
     "execution_count": 15,
     "metadata": {},
     "output_type": "execute_result"
    },
    {
     "data": {
      "image/png": "[encoded data removed]",
      "text/plain": [
       "<Figure size 317.125x180 with 1 Axes>"
      ]
     },
     "metadata": {},
     "output_type": "display_data"
    }
   ],
   "source": [
    "sns.pairplot(df_delito,x_vars=['cantidad'],y_vars=['tipo'],hue='tipo')"
   ]
  },
  {
   "cell_type": "code",
   "execution_count": null,
   "id": "831018e0",
   "metadata": {},
   "outputs": [],
   "source": [
    "# definimos matriz de diseño X y vector respuesta y\n",
    "X = pd.DataFrame(df_delito['cantidad'], columns=df_delito['tipo'])\n",
    "y = abs(pd.Series(df_delito['tipo'])-1)\n",
    "# Separamos en entrenamiento/test en razon 80/20 %\n",
    "X_train, X_test, y_train, y_test = train_test_split(X,y,test_size=0.3, random_state=1)\n",
    "# Creamos un modelo Random Forest con parametros por defect\n",
    "modelo = RandomForestClassifier(random_state=1)\n",
    "modelo.fit(X_train, y_train)\n",
    "# Obtenemos las predicciones del modelo con X_test\n",
    "preds = modelo.predict(X_test) "
   ]
  }
 ],
 "metadata": {
  "kernelspec": {
   "display_name": "Python 3 (ipykernel)",
   "language": "python",
   "name": "python3"
  },
  "language_info": {
   "codemirror_mode": {
    "name": "ipython",
    "version": 3
   },
   "file_extension": ".py",
   "mimetype": "text/x-python",
   "name": "python",
   "nbconvert_exporter": "python",
   "pygments_lexer": "ipython3",
   "version": "3.9.12"
  }
 },
 "nbformat": 4,
 "nbformat_minor": 5
}
