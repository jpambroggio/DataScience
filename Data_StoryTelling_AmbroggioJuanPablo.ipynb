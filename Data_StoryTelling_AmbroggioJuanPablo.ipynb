{
 "cells": [
  {
   "cell_type": "markdown",
   "id": "97ccf1af",
   "metadata": {},
   "source": [
    "### **Proyecto Data Science (Delitos 2021) - Data Wrangling**\n"
   ]
  },
  {
   "cell_type": "markdown",
   "id": "e89c117a",
   "metadata": {},
   "source": [
    "### Presentacion del Dataset (Delitos 2021)"
   ]
  },
  {
   "cell_type": "code",
   "execution_count": 3,
   "id": "047ff46e",
   "metadata": {},
   "outputs": [
    {
     "data": {
      "text/html": [
       "<div>\n",
       "<style scoped>\n",
       "    .dataframe tbody tr th:only-of-type {\n",
       "        vertical-align: middle;\n",
       "    }\n",
       "\n",
       "    .dataframe tbody tr th {\n",
       "        vertical-align: top;\n",
       "    }\n",
       "\n",
       "    .dataframe thead th {\n",
       "        text-align: right;\n",
       "    }\n",
       "</style>\n",
       "<table border=\"1\" class=\"dataframe\">\n",
       "  <thead>\n",
       "    <tr style=\"text-align: right;\">\n",
       "      <th></th>\n",
       "      <th>id-mapa</th>\n",
       "      <th>anio</th>\n",
       "      <th>mes</th>\n",
       "      <th>dia</th>\n",
       "      <th>fecha</th>\n",
       "      <th>franja</th>\n",
       "      <th>tipo</th>\n",
       "      <th>subtipo</th>\n",
       "      <th>uso_armas</th>\n",
       "      <th>barrio</th>\n",
       "      <th>comuna</th>\n",
       "      <th>latitud</th>\n",
       "      <th>longitud</th>\n",
       "      <th>cantidad</th>\n",
       "    </tr>\n",
       "  </thead>\n",
       "  <tbody>\n",
       "    <tr>\n",
       "      <th>0</th>\n",
       "      <td>HC-2021-1008202</td>\n",
       "      <td>2021</td>\n",
       "      <td>Enero</td>\n",
       "      <td>Miércoles</td>\n",
       "      <td>06/01/2021</td>\n",
       "      <td>18</td>\n",
       "      <td>Homicidio</td>\n",
       "      <td>Siniestro Vial</td>\n",
       "      <td>NaN</td>\n",
       "      <td>Constitución</td>\n",
       "      <td>1.0</td>\n",
       "      <td>-34,62761</td>\n",
       "      <td>-58,379146</td>\n",
       "      <td>1</td>\n",
       "    </tr>\n",
       "    <tr>\n",
       "      <th>1</th>\n",
       "      <td>HC-2021-1009094</td>\n",
       "      <td>2021</td>\n",
       "      <td>Enero</td>\n",
       "      <td>Jueves</td>\n",
       "      <td>07/01/2021</td>\n",
       "      <td>10</td>\n",
       "      <td>Homicidio</td>\n",
       "      <td>Siniestro Vial</td>\n",
       "      <td>NaN</td>\n",
       "      <td>Mataderos</td>\n",
       "      <td>9.0</td>\n",
       "      <td>-34,64972969</td>\n",
       "      <td>-58,51058958</td>\n",
       "      <td>1</td>\n",
       "    </tr>\n",
       "    <tr>\n",
       "      <th>2</th>\n",
       "      <td>HC-2021-1013236</td>\n",
       "      <td>2021</td>\n",
       "      <td>Enero</td>\n",
       "      <td>Domingo</td>\n",
       "      <td>10/01/2021</td>\n",
       "      <td>7</td>\n",
       "      <td>Homicidio</td>\n",
       "      <td>Siniestro Vial</td>\n",
       "      <td>NaN</td>\n",
       "      <td>Parque Chacabuco</td>\n",
       "      <td>7.0</td>\n",
       "      <td>-34,62917196</td>\n",
       "      <td>-58,43058079</td>\n",
       "      <td>1</td>\n",
       "    </tr>\n",
       "    <tr>\n",
       "      <th>3</th>\n",
       "      <td>HC-2021-1014154</td>\n",
       "      <td>2021</td>\n",
       "      <td>Enero</td>\n",
       "      <td>Lunes</td>\n",
       "      <td>11/01/2021</td>\n",
       "      <td>9</td>\n",
       "      <td>Homicidio</td>\n",
       "      <td>Siniestro Vial</td>\n",
       "      <td>NaN</td>\n",
       "      <td>Nueva Pompeya</td>\n",
       "      <td>5.0</td>\n",
       "      <td>-34,63867577</td>\n",
       "      <td>-58,4145554</td>\n",
       "      <td>1</td>\n",
       "    </tr>\n",
       "    <tr>\n",
       "      <th>4</th>\n",
       "      <td>HC-2021-1015476</td>\n",
       "      <td>2021</td>\n",
       "      <td>Enero</td>\n",
       "      <td>Lunes</td>\n",
       "      <td>11/01/2021</td>\n",
       "      <td>21</td>\n",
       "      <td>Homicidio</td>\n",
       "      <td>Siniestro Vial</td>\n",
       "      <td>NaN</td>\n",
       "      <td>Parque Avellaneda</td>\n",
       "      <td>9.0</td>\n",
       "      <td>-34,64771436</td>\n",
       "      <td>-58,46806552</td>\n",
       "      <td>1</td>\n",
       "    </tr>\n",
       "  </tbody>\n",
       "</table>\n",
       "</div>"
      ],
      "text/plain": [
       "           id-mapa  anio    mes        dia       fecha franja       tipo  \\\n",
       "0  HC-2021-1008202  2021  Enero  Miércoles  06/01/2021     18  Homicidio   \n",
       "1  HC-2021-1009094  2021  Enero     Jueves  07/01/2021     10  Homicidio   \n",
       "2  HC-2021-1013236  2021  Enero    Domingo  10/01/2021      7  Homicidio   \n",
       "3  HC-2021-1014154  2021  Enero      Lunes  11/01/2021      9  Homicidio   \n",
       "4  HC-2021-1015476  2021  Enero      Lunes  11/01/2021     21  Homicidio   \n",
       "\n",
       "          subtipo uso_armas             barrio  comuna       latitud  \\\n",
       "0  Siniestro Vial       NaN       Constitución     1.0     -34,62761   \n",
       "1  Siniestro Vial       NaN          Mataderos     9.0  -34,64972969   \n",
       "2  Siniestro Vial       NaN   Parque Chacabuco     7.0  -34,62917196   \n",
       "3  Siniestro Vial       NaN      Nueva Pompeya     5.0  -34,63867577   \n",
       "4  Siniestro Vial       NaN  Parque Avellaneda     9.0  -34,64771436   \n",
       "\n",
       "       longitud  cantidad  \n",
       "0    -58,379146         1  \n",
       "1  -58,51058958         1  \n",
       "2  -58,43058079         1  \n",
       "3   -58,4145554         1  \n",
       "4  -58,46806552         1  "
      ]
     },
     "execution_count": 3,
     "metadata": {},
     "output_type": "execute_result"
    }
   ],
   "source": [
    "import matplotlib as mpl\n",
    "import matplotlib.pyplot as plt\n",
    "import pandas as pd\n",
    "\n",
    "df_delito = pd.read_csv('delitos_2021.csv', sep=\";\")\n",
    "\n",
    "df_delito.head()\n"
   ]
  },
  {
   "cell_type": "markdown",
   "id": "f5b8e513",
   "metadata": {},
   "source": [
    "\n",
    "###  Muestra de cantidad de registros y columnas"
   ]
  },
  {
   "cell_type": "code",
   "execution_count": 2,
   "id": "51bb9d5c",
   "metadata": {},
   "outputs": [
    {
     "data": {
      "text/plain": [
       "(88567, 14)"
      ]
     },
     "execution_count": 2,
     "metadata": {},
     "output_type": "execute_result"
    }
   ],
   "source": [
    "df_delito.shape"
   ]
  },
  {
   "cell_type": "markdown",
   "id": "17ad603d",
   "metadata": {},
   "source": [
    "### Muestra Info de Columnas y Filas"
   ]
  },
  {
   "cell_type": "code",
   "execution_count": 3,
   "id": "9bbc84d3",
   "metadata": {},
   "outputs": [
    {
     "name": "stdout",
     "output_type": "stream",
     "text": [
      "<class 'pandas.core.frame.DataFrame'>\n",
      "RangeIndex: 88567 entries, 0 to 88566\n",
      "Data columns (total 14 columns):\n",
      " #   Column     Non-Null Count  Dtype  \n",
      "---  ------     --------------  -----  \n",
      " 0   id-mapa    88567 non-null  object \n",
      " 1   anio       88567 non-null  int64  \n",
      " 2   mes        88567 non-null  object \n",
      " 3   dia        88567 non-null  object \n",
      " 4   fecha      88567 non-null  object \n",
      " 5   franja     88567 non-null  object \n",
      " 6   tipo       88567 non-null  object \n",
      " 7   subtipo    16321 non-null  object \n",
      " 8   uso_armas  8472 non-null   object \n",
      " 9   barrio     87390 non-null  object \n",
      " 10  comuna     87907 non-null  float64\n",
      " 11  latitud    88567 non-null  object \n",
      " 12  longitud   88567 non-null  object \n",
      " 13  cantidad   88567 non-null  int64  \n",
      "dtypes: float64(1), int64(2), object(11)\n",
      "memory usage: 9.5+ MB\n"
     ]
    }
   ],
   "source": [
    "df_delito.info()"
   ]
  },
  {
   "cell_type": "markdown",
   "id": "2d987560",
   "metadata": {},
   "source": [
    "\n",
    "### Muestra de Valores y tipo de datos\n"
   ]
  },
  {
   "cell_type": "code",
   "execution_count": 4,
   "id": "904dcc9b",
   "metadata": {},
   "outputs": [
    {
     "data": {
      "text/plain": [
       "id-mapa       object\n",
       "anio           int64\n",
       "mes           object\n",
       "dia           object\n",
       "fecha         object\n",
       "franja        object\n",
       "tipo          object\n",
       "subtipo       object\n",
       "uso_armas     object\n",
       "barrio        object\n",
       "comuna       float64\n",
       "latitud       object\n",
       "longitud      object\n",
       "cantidad       int64\n",
       "dtype: object"
      ]
     },
     "execution_count": 4,
     "metadata": {},
     "output_type": "execute_result"
    }
   ],
   "source": [
    "df_delito.dtypes"
   ]
  },
  {
   "cell_type": "markdown",
   "id": "3563d767",
   "metadata": {},
   "source": [
    "### Verificación de Nulos"
   ]
  },
  {
   "cell_type": "code",
   "execution_count": 5,
   "id": "bad9a3ce",
   "metadata": {},
   "outputs": [
    {
     "data": {
      "text/plain": [
       "id-mapa          0\n",
       "anio             0\n",
       "mes              0\n",
       "dia              0\n",
       "fecha            0\n",
       "franja           0\n",
       "tipo             0\n",
       "subtipo      72246\n",
       "uso_armas    80095\n",
       "barrio        1177\n",
       "comuna         660\n",
       "latitud          0\n",
       "longitud         0\n",
       "cantidad         0\n",
       "dtype: int64"
      ]
     },
     "execution_count": 5,
     "metadata": {},
     "output_type": "execute_result"
    }
   ],
   "source": [
    "df_delito.isnull().sum()"
   ]
  },
  {
   "cell_type": "markdown",
   "id": "758996d8",
   "metadata": {},
   "source": [
    "### Verificación de Duplicados"
   ]
  },
  {
   "cell_type": "code",
   "execution_count": 6,
   "id": "b2149e64",
   "metadata": {},
   "outputs": [
    {
     "data": {
      "text/plain": [
       "0        False\n",
       "1        False\n",
       "2        False\n",
       "3        False\n",
       "4        False\n",
       "         ...  \n",
       "88562    False\n",
       "88563    False\n",
       "88564    False\n",
       "88565    False\n",
       "88566    False\n",
       "Length: 88567, dtype: bool"
      ]
     },
     "execution_count": 6,
     "metadata": {},
     "output_type": "execute_result"
    }
   ],
   "source": [
    "df_delito.duplicated()"
   ]
  },
  {
   "cell_type": "markdown",
   "id": "114d9398",
   "metadata": {},
   "source": [
    "### Muestra Cantidad de Duplicados"
   ]
  },
  {
   "cell_type": "code",
   "execution_count": 7,
   "id": "7ed4f63a",
   "metadata": {},
   "outputs": [
    {
     "data": {
      "text/plain": [
       "1"
      ]
     },
     "execution_count": 7,
     "metadata": {},
     "output_type": "execute_result"
    }
   ],
   "source": [
    "df_delito.duplicated().sum()"
   ]
  },
  {
   "cell_type": "markdown",
   "id": "62823078",
   "metadata": {},
   "source": [
    "### Borrar Duplicados"
   ]
  },
  {
   "cell_type": "code",
   "execution_count": 4,
   "id": "8d355be3",
   "metadata": {},
   "outputs": [
    {
     "name": "stdout",
     "output_type": "stream",
     "text": [
      "(88567, 14)\n",
      "(88566, 14)\n",
      "               id-mapa  anio      mes        dia       fecha franja  \\\n",
      "0      HC-2021-1008202  2021    Enero  Miércoles  06/01/2021     18   \n",
      "1      HC-2021-1009094  2021    Enero     Jueves  07/01/2021     10   \n",
      "2      HC-2021-1013236  2021    Enero    Domingo  10/01/2021      7   \n",
      "3      HC-2021-1014154  2021    Enero      Lunes  11/01/2021      9   \n",
      "4      HC-2021-1015476  2021    Enero      Lunes  11/01/2021     21   \n",
      "...                ...   ...      ...        ...         ...    ...   \n",
      "88562  RH-2021-3751758  2021     Mayo     Sábado  08/05/2021     10   \n",
      "88563  RH-2021-3768141  2021    Junio     Martes  29/06/2021     21   \n",
      "88564  RH-2021-3768589  2021    Junio  Miércoles  30/06/2021     13   \n",
      "88565  RH-2021-3783716  2021    Julio     Sábado  31/07/2021      1   \n",
      "88566  RH-2021-3807019  2021  Octubre  Miércoles  06/10/2021     14   \n",
      "\n",
      "                        tipo         subtipo uso_armas             barrio  \\\n",
      "0                  Homicidio  Siniestro Vial       NaN       Constitución   \n",
      "1                  Homicidio  Siniestro Vial       NaN          Mataderos   \n",
      "2                  Homicidio  Siniestro Vial       NaN   Parque Chacabuco   \n",
      "3                  Homicidio  Siniestro Vial       NaN      Nueva Pompeya   \n",
      "4                  Homicidio  Siniestro Vial       NaN  Parque Avellaneda   \n",
      "...                      ...             ...       ...                ...   \n",
      "88562  Hurto (sin violencia)             NaN       NaN          Balvanera   \n",
      "88563   Robo (con violencia)             NaN       NaN            Palermo   \n",
      "88564   Robo (con violencia)             NaN       NaN          Balvanera   \n",
      "88565  Hurto (sin violencia)             NaN       NaN          Balvanera   \n",
      "88566  Hurto (sin violencia)             NaN       NaN        San Nicolás   \n",
      "\n",
      "       comuna       latitud      longitud  cantidad  \n",
      "0         1.0     -34,62761    -58,379146         1  \n",
      "1         9.0  -34,64972969  -58,51058958         1  \n",
      "2         7.0  -34,62917196  -58,43058079         1  \n",
      "3         5.0  -34,63867577   -58,4145554         1  \n",
      "4         9.0  -34,64771436  -58,46806552         1  \n",
      "...       ...           ...           ...       ...  \n",
      "88562     3.0    -34,605751    -58,395375         1  \n",
      "88563    14.0     -34,59266    -58,422338         1  \n",
      "88564     3.0    -34,608791    -58,404617         1  \n",
      "88565     3.0    -34,603284    -58,394526         1  \n",
      "88566     1.0    -34,604575    -58,392075         2  \n",
      "\n",
      "[88566 rows x 14 columns]\n"
     ]
    }
   ],
   "source": [
    "print(df_delito.shape)\n",
    "df_delito1 = df_delito.drop_duplicates()\n",
    "print(df_delito1.shape)\n",
    "print(df_delito1)"
   ]
  },
  {
   "cell_type": "markdown",
   "id": "ef427eff",
   "metadata": {},
   "source": [
    "### Analisis de Nulos"
   ]
  },
  {
   "cell_type": "markdown",
   "id": "30381621",
   "metadata": {},
   "source": [
    "#### Porcentaje de Nulos"
   ]
  },
  {
   "cell_type": "code",
   "execution_count": 5,
   "id": "acc6ffc5",
   "metadata": {},
   "outputs": [
    {
     "data": {
      "text/plain": [
       "uso_armas    90.434252\n",
       "subtipo      81.571935\n",
       "barrio        1.328952\n",
       "comuna        0.745207\n",
       "id-mapa       0.000000\n",
       "anio          0.000000\n",
       "mes           0.000000\n",
       "dia           0.000000\n",
       "fecha         0.000000\n",
       "franja        0.000000\n",
       "tipo          0.000000\n",
       "latitud       0.000000\n",
       "longitud      0.000000\n",
       "cantidad      0.000000\n",
       "dtype: float64"
      ]
     },
     "execution_count": 5,
     "metadata": {},
     "output_type": "execute_result"
    }
   ],
   "source": [
    "pd.set_option('display.max_rows', None)  # or 1000\n",
    "serie=(df_delito1.isnull().sum()/df_delito1.shape[0])*100\n",
    "serie=serie.sort_values(ascending=False)\n",
    "serie"
   ]
  },
  {
   "cell_type": "markdown",
   "id": "55c5e976",
   "metadata": {},
   "source": [
    "#### Grafico de los Nulos"
   ]
  },
  {
   "cell_type": "code",
   "execution_count": 6,
   "id": "8ea91204",
   "metadata": {},
   "outputs": [
    {
     "data": {
      "text/plain": [
       "<AxesSubplot:>"
      ]
     },
     "execution_count": 6,
     "metadata": {},
     "output_type": "execute_result"
    },
    {
     "data": {
      "image/png": "[encoded data removed]",
      "text/plain": [
       "<Figure size 720x432 with 1 Axes>"
      ]
     },
     "metadata": {
      "needs_background": "light"
     },
     "output_type": "display_data"
    }
   ],
   "source": [
    "plt.figure(figsize=(10,6))\n",
    "serie.plot(kind='bar')"
   ]
  },
  {
   "cell_type": "code",
   "execution_count": 14,
   "id": "655b0ba8",
   "metadata": {},
   "outputs": [
    {
     "name": "stdout",
     "output_type": "stream",
     "text": [
      "Collecting missingno\n",
      "  Downloading missingno-0.5.2-py3-none-any.whl (8.7 kB)\n",
      "Requirement already satisfied: matplotlib in c:\\users\\juanpablo\\anaconda3\\lib\\site-packages (from missingno) (3.5.1)\n",
      "Requirement already satisfied: numpy in c:\\users\\juanpablo\\anaconda3\\lib\\site-packages (from missingno) (1.21.5)\n",
      "Requirement already satisfied: seaborn in c:\\users\\juanpablo\\anaconda3\\lib\\site-packages (from missingno) (0.11.2)\n",
      "Requirement already satisfied: scipy in c:\\users\\juanpablo\\anaconda3\\lib\\site-packages (from missingno) (1.7.3)\n",
      "Requirement already satisfied: pyparsing>=2.2.1 in c:\\users\\juanpablo\\anaconda3\\lib\\site-packages (from matplotlib->missingno) (3.0.4)\n",
      "Requirement already satisfied: fonttools>=4.22.0 in c:\\users\\juanpablo\\anaconda3\\lib\\site-packages (from matplotlib->missingno) (4.25.0)\n",
      "Requirement already satisfied: python-dateutil>=2.7 in c:\\users\\juanpablo\\anaconda3\\lib\\site-packages (from matplotlib->missingno) (2.8.2)\n",
      "Requirement already satisfied: packaging>=20.0 in c:\\users\\juanpablo\\anaconda3\\lib\\site-packages (from matplotlib->missingno) (21.3)\n",
      "Requirement already satisfied: pillow>=6.2.0 in c:\\users\\juanpablo\\anaconda3\\lib\\site-packages (from matplotlib->missingno) (9.0.1)\n",
      "Requirement already satisfied: cycler>=0.10 in c:\\users\\juanpablo\\anaconda3\\lib\\site-packages (from matplotlib->missingno) (0.11.0)\n",
      "Requirement already satisfied: kiwisolver>=1.0.1 in c:\\users\\juanpablo\\anaconda3\\lib\\site-packages (from matplotlib->missingno) (1.3.2)\n",
      "Requirement already satisfied: six>=1.5 in c:\\users\\juanpablo\\anaconda3\\lib\\site-packages (from python-dateutil>=2.7->matplotlib->missingno) (1.16.0)\n",
      "Requirement already satisfied: pandas>=0.23 in c:\\users\\juanpablo\\anaconda3\\lib\\site-packages (from seaborn->missingno) (1.4.2)\n",
      "Requirement already satisfied: pytz>=2020.1 in c:\\users\\juanpablo\\anaconda3\\lib\\site-packages (from pandas>=0.23->seaborn->missingno) (2021.3)\n",
      "Installing collected packages: missingno\n",
      "Successfully installed missingno-0.5.2\n",
      "Note: you may need to restart the kernel to use updated packages.\n"
     ]
    }
   ],
   "source": [
    "pip install missingno"
   ]
  },
  {
   "cell_type": "code",
   "execution_count": 7,
   "id": "b8090083",
   "metadata": {},
   "outputs": [
    {
     "data": {
      "text/plain": [
       "<AxesSubplot:>"
      ]
     },
     "execution_count": 7,
     "metadata": {},
     "output_type": "execute_result"
    },
    {
     "data": {
      "image/png": "[encoded data removed]",
      "text/plain": [
       "<Figure size 1800x720 with 2 Axes>"
      ]
     },
     "metadata": {
      "needs_background": "light"
     },
     "output_type": "display_data"
    }
   ],
   "source": [
    "import missingno as msno\n",
    "msno.matrix(df_delito1)"
   ]
  },
  {
   "cell_type": "code",
   "execution_count": 19,
   "id": "d9f93a9f",
   "metadata": {},
   "outputs": [
    {
     "data": {
      "text/plain": [
       "<AxesSubplot:>"
      ]
     },
     "execution_count": 19,
     "metadata": {},
     "output_type": "execute_result"
    },
    {
     "data": {
      "image/png": "[encoded data removed]",
      "text/plain": [
       "<Figure size 1440x864 with 2 Axes>"
      ]
     },
     "metadata": {
      "needs_background": "light"
     },
     "output_type": "display_data"
    }
   ],
   "source": [
    "msno.heatmap(df_delito1)"
   ]
  },
  {
   "cell_type": "markdown",
   "id": "cbfcf5f7",
   "metadata": {},
   "source": [
    "### Borrar de Columnas Innecesarias"
   ]
  },
  {
   "cell_type": "code",
   "execution_count": 8,
   "id": "5808a3ff",
   "metadata": {},
   "outputs": [
    {
     "data": {
      "text/plain": [
       "Index(['anio', 'mes', 'dia', 'fecha', 'franja', 'tipo', 'barrio', 'cantidad'], dtype='object')"
      ]
     },
     "execution_count": 8,
     "metadata": {},
     "output_type": "execute_result"
    }
   ],
   "source": [
    "borrado_columna=['uso_armas','subtipo','id-mapa','comuna','latitud','longitud']\n",
    "df_delito1_x=df_delito1.drop(labels=borrado_columna, axis=1)\n",
    "df_delito1_x.columns "
   ]
  },
  {
   "cell_type": "markdown",
   "id": "ad2a5480",
   "metadata": {},
   "source": [
    "#### Verificar sin quedaron Nulos"
   ]
  },
  {
   "cell_type": "code",
   "execution_count": 10,
   "id": "d2f52505",
   "metadata": {},
   "outputs": [
    {
     "data": {
      "text/plain": [
       "anio           0\n",
       "mes            0\n",
       "dia            0\n",
       "fecha          0\n",
       "franja         0\n",
       "tipo           0\n",
       "barrio      1177\n",
       "cantidad       0\n",
       "dtype: int64"
      ]
     },
     "execution_count": 10,
     "metadata": {},
     "output_type": "execute_result"
    }
   ],
   "source": [
    "df_delito1_x.isnull().sum()"
   ]
  },
  {
   "cell_type": "markdown",
   "id": "0fc07d95",
   "metadata": {},
   "source": [
    "#### Reemplazar los datos nulos por dato (Desconocido)"
   ]
  },
  {
   "cell_type": "code",
   "execution_count": 11,
   "id": "860e2deb",
   "metadata": {},
   "outputs": [],
   "source": [
    "categoria_r =['barrio']\n",
    "for i in categoria_r:\n",
    "   df_delito1_x[i] = df_delito1_x[i].fillna('Desconocido')"
   ]
  },
  {
   "cell_type": "markdown",
   "id": "1e442dcf",
   "metadata": {},
   "source": [
    "#### Verificar si quedaron datos nulos"
   ]
  },
  {
   "cell_type": "code",
   "execution_count": 12,
   "id": "24792896",
   "metadata": {},
   "outputs": [
    {
     "data": {
      "text/plain": [
       "anio        0\n",
       "mes         0\n",
       "dia         0\n",
       "fecha       0\n",
       "franja      0\n",
       "tipo        0\n",
       "barrio      0\n",
       "cantidad    0\n",
       "dtype: int64"
      ]
     },
     "execution_count": 12,
     "metadata": {},
     "output_type": "execute_result"
    }
   ],
   "source": [
    "df_delito1_x.isnull().sum()"
   ]
  },
  {
   "cell_type": "markdown",
   "id": "9e514b8e",
   "metadata": {},
   "source": [
    "#### Verificacion del DataSet"
   ]
  },
  {
   "cell_type": "code",
   "execution_count": 14,
   "id": "ae9f86e9",
   "metadata": {},
   "outputs": [
    {
     "data": {
      "text/html": [
       "<div>\n",
       "<style scoped>\n",
       "    .dataframe tbody tr th:only-of-type {\n",
       "        vertical-align: middle;\n",
       "    }\n",
       "\n",
       "    .dataframe tbody tr th {\n",
       "        vertical-align: top;\n",
       "    }\n",
       "\n",
       "    .dataframe thead th {\n",
       "        text-align: right;\n",
       "    }\n",
       "</style>\n",
       "<table border=\"1\" class=\"dataframe\">\n",
       "  <thead>\n",
       "    <tr style=\"text-align: right;\">\n",
       "      <th></th>\n",
       "      <th>anio</th>\n",
       "      <th>mes</th>\n",
       "      <th>dia</th>\n",
       "      <th>fecha</th>\n",
       "      <th>franja</th>\n",
       "      <th>tipo</th>\n",
       "      <th>barrio</th>\n",
       "      <th>cantidad</th>\n",
       "    </tr>\n",
       "  </thead>\n",
       "  <tbody>\n",
       "    <tr>\n",
       "      <th>0</th>\n",
       "      <td>2021</td>\n",
       "      <td>Enero</td>\n",
       "      <td>Miércoles</td>\n",
       "      <td>06/01/2021</td>\n",
       "      <td>18</td>\n",
       "      <td>Homicidio</td>\n",
       "      <td>Constitución</td>\n",
       "      <td>1</td>\n",
       "    </tr>\n",
       "    <tr>\n",
       "      <th>1</th>\n",
       "      <td>2021</td>\n",
       "      <td>Enero</td>\n",
       "      <td>Jueves</td>\n",
       "      <td>07/01/2021</td>\n",
       "      <td>10</td>\n",
       "      <td>Homicidio</td>\n",
       "      <td>Mataderos</td>\n",
       "      <td>1</td>\n",
       "    </tr>\n",
       "    <tr>\n",
       "      <th>2</th>\n",
       "      <td>2021</td>\n",
       "      <td>Enero</td>\n",
       "      <td>Domingo</td>\n",
       "      <td>10/01/2021</td>\n",
       "      <td>7</td>\n",
       "      <td>Homicidio</td>\n",
       "      <td>Parque Chacabuco</td>\n",
       "      <td>1</td>\n",
       "    </tr>\n",
       "    <tr>\n",
       "      <th>3</th>\n",
       "      <td>2021</td>\n",
       "      <td>Enero</td>\n",
       "      <td>Lunes</td>\n",
       "      <td>11/01/2021</td>\n",
       "      <td>9</td>\n",
       "      <td>Homicidio</td>\n",
       "      <td>Nueva Pompeya</td>\n",
       "      <td>1</td>\n",
       "    </tr>\n",
       "    <tr>\n",
       "      <th>4</th>\n",
       "      <td>2021</td>\n",
       "      <td>Enero</td>\n",
       "      <td>Lunes</td>\n",
       "      <td>11/01/2021</td>\n",
       "      <td>21</td>\n",
       "      <td>Homicidio</td>\n",
       "      <td>Parque Avellaneda</td>\n",
       "      <td>1</td>\n",
       "    </tr>\n",
       "  </tbody>\n",
       "</table>\n",
       "</div>"
      ],
      "text/plain": [
       "   anio    mes        dia       fecha franja       tipo             barrio  \\\n",
       "0  2021  Enero  Miércoles  06/01/2021     18  Homicidio       Constitución   \n",
       "1  2021  Enero     Jueves  07/01/2021     10  Homicidio          Mataderos   \n",
       "2  2021  Enero    Domingo  10/01/2021      7  Homicidio   Parque Chacabuco   \n",
       "3  2021  Enero      Lunes  11/01/2021      9  Homicidio      Nueva Pompeya   \n",
       "4  2021  Enero      Lunes  11/01/2021     21  Homicidio  Parque Avellaneda   \n",
       "\n",
       "   cantidad  \n",
       "0         1  \n",
       "1         1  \n",
       "2         1  \n",
       "3         1  \n",
       "4         1  "
      ]
     },
     "execution_count": 14,
     "metadata": {},
     "output_type": "execute_result"
    }
   ],
   "source": [
    "df_delito1_x.head()"
   ]
  },
  {
   "cell_type": "code",
   "execution_count": null,
   "id": "0d2e36b1",
   "metadata": {},
   "outputs": [],
   "source": []
  }
 ],
 "metadata": {
  "kernelspec": {
   "display_name": "Python 3 (ipykernel)",
   "language": "python",
   "name": "python3"
  },
  "language_info": {
   "codemirror_mode": {
    "name": "ipython",
    "version": 3
   },
   "file_extension": ".py",
   "mimetype": "text/x-python",
   "name": "python",
   "nbconvert_exporter": "python",
   "pygments_lexer": "ipython3",
   "version": "3.9.12"
  }
 },
 "nbformat": 4,
 "nbformat_minor": 5
}
