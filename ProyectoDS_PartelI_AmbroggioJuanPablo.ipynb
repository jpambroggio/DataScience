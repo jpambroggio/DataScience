{
 "cells": [
  {
   "cell_type": "markdown",
   "id": "97ccf1af",
   "metadata": {},
   "source": [
    "**Proyecto Data Science (Delitos 2021)**\n",
    "\n",
    "Contamos con un informe donde se muestra los delitos denunciados en la ciudad de Buenos Aires durante el año 2021, en el cual clasifica fecha, dia, franja (Horario),zona, tipo de delito, cantidad de delitos. Un analisis, para poder comprarar la zona mas caliente (peligrosa), y los tipo de delitos que ocurren alli. Esto sumando que se pueden tomar decisiones politicas sobre seguridad, en dias y horarios mas problematicos.\n",
    "\n",
    "                                                  fuente: https://data.buenosaires.gob.ar/dataset/"
   ]
  },
  {
   "cell_type": "markdown",
   "id": "e89c117a",
   "metadata": {},
   "source": [
    "Presentacion del Dataset (Delitos 2021)"
   ]
  },
  {
   "cell_type": "code",
   "execution_count": 43,
   "id": "047ff46e",
   "metadata": {},
   "outputs": [
    {
     "data": {
      "text/html": [
       "<div>\n",
       "<style scoped>\n",
       "    .dataframe tbody tr th:only-of-type {\n",
       "        vertical-align: middle;\n",
       "    }\n",
       "\n",
       "    .dataframe tbody tr th {\n",
       "        vertical-align: top;\n",
       "    }\n",
       "\n",
       "    .dataframe thead th {\n",
       "        text-align: right;\n",
       "    }\n",
       "</style>\n",
       "<table border=\"1\" class=\"dataframe\">\n",
       "  <thead>\n",
       "    <tr style=\"text-align: right;\">\n",
       "      <th></th>\n",
       "      <th>id-mapa</th>\n",
       "      <th>anio</th>\n",
       "      <th>mes</th>\n",
       "      <th>dia</th>\n",
       "      <th>fecha</th>\n",
       "      <th>franja</th>\n",
       "      <th>tipo</th>\n",
       "      <th>subtipo</th>\n",
       "      <th>uso_armas</th>\n",
       "      <th>barrio</th>\n",
       "      <th>comuna</th>\n",
       "      <th>latitud</th>\n",
       "      <th>longitud</th>\n",
       "      <th>cantidad</th>\n",
       "      <th>Unnamed: 14</th>\n",
       "      <th>Unnamed: 15</th>\n",
       "    </tr>\n",
       "  </thead>\n",
       "  <tbody>\n",
       "    <tr>\n",
       "      <th>0</th>\n",
       "      <td>LC-2021-1000090</td>\n",
       "      <td>2021</td>\n",
       "      <td>Enero</td>\n",
       "      <td>Viernes</td>\n",
       "      <td>01/01/2021</td>\n",
       "      <td>0</td>\n",
       "      <td>Lesiones</td>\n",
       "      <td>Siniestro Vial</td>\n",
       "      <td>NaN</td>\n",
       "      <td>Villa Lugano</td>\n",
       "      <td>8.0</td>\n",
       "      <td>-34</td>\n",
       "      <td>672422</td>\n",
       "      <td>-58</td>\n",
       "      <td>493447.0</td>\n",
       "      <td>2.0</td>\n",
       "    </tr>\n",
       "    <tr>\n",
       "      <th>1</th>\n",
       "      <td>LC-2021-1000306</td>\n",
       "      <td>2021</td>\n",
       "      <td>Enero</td>\n",
       "      <td>Viernes</td>\n",
       "      <td>01/01/2021</td>\n",
       "      <td>7</td>\n",
       "      <td>Lesiones</td>\n",
       "      <td>Siniestro Vial</td>\n",
       "      <td>NaN</td>\n",
       "      <td>NaN</td>\n",
       "      <td>0.0</td>\n",
       "      <td>20</td>\n",
       "      <td>20</td>\n",
       "      <td>2</td>\n",
       "      <td>NaN</td>\n",
       "      <td>NaN</td>\n",
       "    </tr>\n",
       "    <tr>\n",
       "      <th>2</th>\n",
       "      <td>LC-2021-1000361</td>\n",
       "      <td>2021</td>\n",
       "      <td>Enero</td>\n",
       "      <td>Viernes</td>\n",
       "      <td>01/01/2021</td>\n",
       "      <td>10</td>\n",
       "      <td>Lesiones</td>\n",
       "      <td>Siniestro Vial</td>\n",
       "      <td>NaN</td>\n",
       "      <td>San Telmo</td>\n",
       "      <td>1.0</td>\n",
       "      <td>-34</td>\n",
       "      <td>621941</td>\n",
       "      <td>-58</td>\n",
       "      <td>374171.0</td>\n",
       "      <td>1.0</td>\n",
       "    </tr>\n",
       "    <tr>\n",
       "      <th>3</th>\n",
       "      <td>LC-2021-1000449</td>\n",
       "      <td>2021</td>\n",
       "      <td>Enero</td>\n",
       "      <td>Viernes</td>\n",
       "      <td>01/01/2021</td>\n",
       "      <td>6</td>\n",
       "      <td>Lesiones</td>\n",
       "      <td>Siniestro Vial</td>\n",
       "      <td>NaN</td>\n",
       "      <td>Boca</td>\n",
       "      <td>4.0</td>\n",
       "      <td>-34</td>\n",
       "      <td>637012</td>\n",
       "      <td>-58</td>\n",
       "      <td>366628.0</td>\n",
       "      <td>1.0</td>\n",
       "    </tr>\n",
       "    <tr>\n",
       "      <th>4</th>\n",
       "      <td>LC-2021-1000572</td>\n",
       "      <td>2021</td>\n",
       "      <td>Enero</td>\n",
       "      <td>Viernes</td>\n",
       "      <td>01/01/2021</td>\n",
       "      <td>10</td>\n",
       "      <td>Lesiones</td>\n",
       "      <td>Siniestro Vial</td>\n",
       "      <td>NaN</td>\n",
       "      <td>Boca</td>\n",
       "      <td>4.0</td>\n",
       "      <td>-34</td>\n",
       "      <td>637213</td>\n",
       "      <td>-58</td>\n",
       "      <td>367929.0</td>\n",
       "      <td>1.0</td>\n",
       "    </tr>\n",
       "  </tbody>\n",
       "</table>\n",
       "</div>"
      ],
      "text/plain": [
       "           id-mapa  anio    mes      dia       fecha  franja      tipo  \\\n",
       "0  LC-2021-1000090  2021  Enero  Viernes  01/01/2021       0  Lesiones   \n",
       "1  LC-2021-1000306  2021  Enero  Viernes  01/01/2021       7  Lesiones   \n",
       "2  LC-2021-1000361  2021  Enero  Viernes  01/01/2021      10  Lesiones   \n",
       "3  LC-2021-1000449  2021  Enero  Viernes  01/01/2021       6  Lesiones   \n",
       "4  LC-2021-1000572  2021  Enero  Viernes  01/01/2021      10  Lesiones   \n",
       "\n",
       "          subtipo uso_armas        barrio  comuna  latitud  longitud  \\\n",
       "0  Siniestro Vial       NaN  Villa Lugano     8.0      -34    672422   \n",
       "1  Siniestro Vial       NaN           NaN     0.0       20        20   \n",
       "2  Siniestro Vial       NaN     San Telmo     1.0      -34    621941   \n",
       "3  Siniestro Vial       NaN          Boca     4.0      -34    637012   \n",
       "4  Siniestro Vial       NaN          Boca     4.0      -34    637213   \n",
       "\n",
       "   cantidad  Unnamed: 14  Unnamed: 15  \n",
       "0       -58     493447.0          2.0  \n",
       "1         2          NaN          NaN  \n",
       "2       -58     374171.0          1.0  \n",
       "3       -58     366628.0          1.0  \n",
       "4       -58     367929.0          1.0  "
      ]
     },
     "execution_count": 43,
     "metadata": {},
     "output_type": "execute_result"
    }
   ],
   "source": [
    "\n",
    "import matplotlib as mpl\n",
    "import matplotlib.pyplot as plt\n",
    "import seaborn as sns\n",
    "import pandas as pd\n",
    "\n",
    "df_delito = pd.read_csv('delitos_2021.csv', sep=\";\")\n",
    "\n",
    "df_delito.head()\n"
   ]
  },
  {
   "cell_type": "markdown",
   "id": "f5b8e513",
   "metadata": {},
   "source": [
    "\n",
    "Muestra de cantidad de registros y columnas.\n"
   ]
  },
  {
   "cell_type": "code",
   "execution_count": 13,
   "id": "51bb9d5c",
   "metadata": {},
   "outputs": [
    {
     "data": {
      "text/plain": [
       "(88567, 14)"
      ]
     },
     "execution_count": 13,
     "metadata": {},
     "output_type": "execute_result"
    }
   ],
   "source": [
    "df_delito.shape"
   ]
  },
  {
   "cell_type": "markdown",
   "id": "2d987560",
   "metadata": {},
   "source": [
    "\n",
    "Muestra de Valores y tipo de datos.\n"
   ]
  },
  {
   "cell_type": "code",
   "execution_count": 14,
   "id": "904dcc9b",
   "metadata": {},
   "outputs": [
    {
     "data": {
      "text/plain": [
       "id-mapa       object\n",
       "anio           int64\n",
       "mes           object\n",
       "dia           object\n",
       "fecha         object\n",
       "franja        object\n",
       "tipo          object\n",
       "subtipo       object\n",
       "uso_armas     object\n",
       "barrio        object\n",
       "comuna       float64\n",
       "latitud       object\n",
       "longitud      object\n",
       "cantidad     float64\n",
       "dtype: object"
      ]
     },
     "execution_count": 14,
     "metadata": {},
     "output_type": "execute_result"
    }
   ],
   "source": [
    "df_delito.dtypes"
   ]
  },
  {
   "cell_type": "markdown",
   "id": "992964f8",
   "metadata": {},
   "source": [
    "**Grafico**\n",
    "\n",
    "El grafico, muestra la cantidad de delitos que se cometieron durante el 2021 (Totales), segun si se ejercicio violencia, y que tipo de violencia."
   ]
  },
  {
   "cell_type": "code",
   "execution_count": 17,
   "id": "f3c8620e",
   "metadata": {},
   "outputs": [
    {
     "data": {
      "image/png": "[encoded data removed]",
      "text/plain": [
       "<Figure size 1440x288 with 1 Axes>"
      ]
     },
     "metadata": {
      "needs_background": "light"
     },
     "output_type": "display_data"
    }
   ],
   "source": [
    "df_delito = pd.read_csv('delitos_2021.csv', sep=\";\", usecols=['anio','mes','dia','fecha','tipo','subtipo','barrio','cantidad'])\n",
    "\n",
    "\n",
    "x_datos = df_delito.tipo.unique()\n",
    "\n",
    "y_datos = df_delito.tipo.value_counts().tolist()\n",
    "\n",
    "bar_colors = ['tab:orange', 'tab:blue', 'tab:red', 'tab:purple']\n",
    "\n",
    "plt.bar(x_datos, y_datos, color = bar_colors)\n",
    "\n",
    "plt.title('Cantidad de Robos por Tipo de Violencia (2021)')\n",
    "\n",
    "ax = plt.subplot() \n",
    "\n",
    "ax.set_xlabel('Tipo de Robo')\n",
    "\n",
    "ax.set_ylabel('Cantidad')\n",
    "\n",
    "\n",
    "plt.rcParams['figure.figsize'] = (20, 4)\n",
    "\n",
    "for x,y in enumerate(y_datos):\n",
    "    plt.text(x, y-38, '%s' %round(y,1), ha='center',fontsize=18,color = 'blue')\n",
    "\n",
    "\n",
    "plt.show()\n"
   ]
  },
  {
   "cell_type": "markdown",
   "id": "2fdb08fd",
   "metadata": {},
   "source": [
    "\n",
    "En el siguiente grafico, se muestra la cantidad de delitos cometidos por mes (Totales)\n"
   ]
  },
  {
   "cell_type": "code",
   "execution_count": 19,
   "id": "26edb0bf",
   "metadata": {},
   "outputs": [
    {
     "data": {
      "image/png": "[encoded data removed]",
      "text/plain": [
       "<Figure size 1440x288 with 1 Axes>"
      ]
     },
     "metadata": {
      "needs_background": "light"
     },
     "output_type": "display_data"
    }
   ],
   "source": [
    "x_datos = df_delito.mes.unique()\n",
    "\n",
    "y_datos = df_delito.mes.value_counts().tolist()\n",
    "\n",
    "plt.bar(x_datos, y_datos)\n",
    "\n",
    "plt.title('Cantidad de Robos Mensuales(2021)')\n",
    "\n",
    "ax = plt.subplot() \n",
    "\n",
    "ax.set_xlabel('Meses')\n",
    "\n",
    "ax.set_ylabel('Cantidad')\n",
    "\n",
    "plt.rcParams['figure.figsize'] = (20, 4)\n",
    "\n",
    "\n",
    "\n",
    "\n",
    "for x,y in enumerate(y_datos):\n",
    "    plt.text(x, y-38, '%s' %round(y,1), ha='center',fontsize=14,color = 'blue')\n",
    "plt.show()"
   ]
  },
  {
   "cell_type": "markdown",
   "id": "5cc6496a",
   "metadata": {},
   "source": [
    "## **Analisis de los datos II**"
   ]
  },
  {
   "cell_type": "code",
   "execution_count": null,
   "id": "3d12f4ef",
   "metadata": {},
   "outputs": [],
   "source": []
  },
  {
   "cell_type": "markdown",
   "id": "000134f8",
   "metadata": {},
   "source": []
  },
  {
   "cell_type": "markdown",
   "id": "06918716",
   "metadata": {},
   "source": [
    " ## Introducción"
   ]
  },
  {
   "cell_type": "markdown",
   "id": "2b2b51c5",
   "metadata": {},
   "source": [
    "### Contexto Empresarial\n",
    "La ciudad Autonoma de Buenos Aires, tiene un incremento de delitos en la ciudad. El dataset cuenta con datos sobre ubicacion, fecha, año, ademas de tener tipo de delito, si se uso armas o tiene implicado algun elemento en el mismo. "
   ]
  },
  {
   "cell_type": "markdown",
   "id": "80a6c6e3",
   "metadata": {},
   "source": [
    "### Problemas comerciales\n",
    "Crear visualizaciones que proporcion datos que sirvan para relevar las zonas donde se originan mas delitos, y asi tomar acciones de seguridad policial.\n"
   ]
  },
  {
   "cell_type": "markdown",
   "id": "bedebda2",
   "metadata": {},
   "source": [
    "### Contexto Analitico"
   ]
  },
  {
   "cell_type": "markdown",
   "id": "05e0fa4d",
   "metadata": {},
   "source": [
    "Desde un archivo csv, que contiene detalles sobre delitos realizados en la ciudad de buenos aires, con fecha y franja horario,  ubicacion geografica del delito, tipo de delito, si se utilizaron armas o algun elemento contudente para realizar el robo. \n",
    "\n",
    "1-. Cantidad de Robos Mensuales\n",
    "2-. Cantidad de Robos por Franja Horaria"
   ]
  },
  {
   "cell_type": "code",
   "execution_count": 13,
   "id": "238ca18a",
   "metadata": {},
   "outputs": [
    {
     "data": {
      "text/plain": [
       "Index(['id-mapa', 'anio', 'mes', 'dia', 'fecha', 'franja', 'tipo', 'subtipo',\n",
       "       'uso_armas', 'barrio', 'comuna', 'latitud', 'longitud', 'cantidad'],\n",
       "      dtype='object')"
      ]
     },
     "execution_count": 13,
     "metadata": {},
     "output_type": "execute_result"
    }
   ],
   "source": [
    "df_delito.columns"
   ]
  },
  {
   "cell_type": "markdown",
   "id": "4c9db331",
   "metadata": {},
   "source": [
    "Se muestran las siguientes Columnas:\n",
    "\n",
    "1. - id-mapa = Es el id de la ubicacion en el mapa de ciudad.\n",
    "2. - anio = Es el año del delito.\n",
    "3. - mes = Es el mes del delito.\n",
    "4. - dia = Del delito.\n",
    "5. - fecha = Es la fecha completa del delito.\n",
    "6. - franja = Es la franja horaria donde se realizo el delito.\n",
    "7. - tipo = Caracteristicas del delito (homicidio, lesiones, robo o hurto).\n",
    "8. - subtipo = Donde se origino el delito (sinietro vial, etc).\n",
    "9. - uso_armas = Si hubo uso de algun elemento en el delito (armas, cuchillos, etc).\n",
    "10. - barrio = Lugar donde ocurrio el delito.\n",
    "11. - comuna = Comuna donde ocurrio el delito.\n",
    "12. - latitud = Ubicación por coordenas de donde fue el delito.\n",
    "13. - cantidad = Cantidad de delitos (generalmente es uno, pero puede ser que se hicieron varios en el mismo lugar)."
   ]
  },
  {
   "cell_type": "markdown",
   "id": "96503ad1",
   "metadata": {},
   "source": [
    "### Cantidad de Robos Mensuales"
   ]
  },
  {
   "cell_type": "code",
   "execution_count": 47,
   "id": "0b965ba2",
   "metadata": {},
   "outputs": [
    {
     "data": {
      "text/plain": [
       "<AxesSubplot:xlabel='fecha'>"
      ]
     },
     "execution_count": 47,
     "metadata": {},
     "output_type": "execute_result"
    },
    {
     "data": {
      "image/png": "[encoded data removed]",
      "text/plain": [
       "<Figure size 432x288 with 1 Axes>"
      ]
     },
     "metadata": {
      "needs_background": "light"
     },
     "output_type": "display_data"
    }
   ],
   "source": [
    "df_delito1 = df_delito\n",
    "df_delito['fecha']=pd.to_datetime(df_delito['fecha'])\n",
    "delito_mensuales =df_delito.groupby(df_delito['fecha'].dt.to_period('M')).size()\n",
    "delito_mensuales.plot.line()"
   ]
  },
  {
   "cell_type": "markdown",
   "id": "a0fd25ee",
   "metadata": {},
   "source": [
    "## Cantidad de Delitos Por Franja Horaria"
   ]
  },
  {
   "cell_type": "code",
   "execution_count": 53,
   "id": "f933e6f1",
   "metadata": {},
   "outputs": [
    {
     "data": {
      "text/plain": [
       "Text(0, 0.5, 'Total de Delitos')"
      ]
     },
     "execution_count": 53,
     "metadata": {},
     "output_type": "execute_result"
    },
    {
     "data": {
      "image/png": "[encoded data removed]",
      "text/plain": [
       "<Figure size 432x288 with 1 Axes>"
      ]
     },
     "metadata": {
      "needs_background": "light"
     },
     "output_type": "display_data"
    }
   ],
   "source": [
    "df_delito1['franja'] = df_delito1['franja']\n",
    "df_delito3 = df_delito1.groupby('franja').size()\n",
    "df_delito3.index\n",
    "df_delito3.values\n",
    "sns.barplot(x=df_delito3.index, y=df_delito3.values)\n",
    "plt.title('Distribucion de Delitos por Hora')\n",
    "plt.xlabel('Hora')\n",
    "plt.ylabel('Total de Delitos')"
   ]
  },
  {
   "cell_type": "code",
   "execution_count": null,
   "id": "c637a1fc",
   "metadata": {},
   "outputs": [],
   "source": []
  }
 ],
 "metadata": {
  "kernelspec": {
   "display_name": "Python 3 (ipykernel)",
   "language": "python",
   "name": "python3"
  },
  "language_info": {
   "codemirror_mode": {
    "name": "ipython",
    "version": 3
   },
   "file_extension": ".py",
   "mimetype": "text/x-python",
   "name": "python",
   "nbconvert_exporter": "python",
   "pygments_lexer": "ipython3",
   "version": "3.9.12"
  }
 },
 "nbformat": 4,
 "nbformat_minor": 5
}
