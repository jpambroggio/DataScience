{
 "cells": [
  {
   "cell_type": "markdown",
   "id": "227d388f",
   "metadata": {},
   "source": [
    "## Acceso API\n",
    "#### Se genero una acceso a la API de marvel, en la cual, se genero un usuario y contraseña (https://developer.marvel.com/). \n",
    "#### Se utilizo un generador de HASH, para poder realizar la conexion segun la documentacion de la pagina. Luego se realizo la conexion, a la API, si obtuvo la respuesta de la conexion, cantidad de texto, y se cargo tipo JSON."
   ]
  },
  {
   "cell_type": "code",
   "execution_count": 3,
   "id": "1d939a3d",
   "metadata": {},
   "outputs": [
    {
     "name": "stdout",
     "output_type": "stream",
     "text": [
      "<Response [200]>\n"
     ]
    }
   ],
   "source": [
    "import requests\n",
    "import json\n",
    "import pandas as pd\n",
    "\n",
    "ts=1\n",
    "private_key='2e54e245a19b1ea116856758636b37bcaf079225'\n",
    "public_key='e7d477a63b38cd51753801042b41b6a0'\n",
    "hashed = '038992fd173699667a3ec729f1133fb9'\n",
    "\n",
    "url = f\"https://gateway.marvel.com:443/v1/public/characters?ts={ts}&apikey={public_key}&hash={hashed}\"\n",
    "response = requests.get(url)\n",
    "\n",
    "print(response)"
   ]
  },
  {
   "cell_type": "code",
   "execution_count": 5,
   "id": "ed95d933",
   "metadata": {},
   "outputs": [],
   "source": [
    "datos = json.loads(response.text)"
   ]
  },
  {
   "cell_type": "markdown",
   "id": "7adf0cd2",
   "metadata": {},
   "source": [
    "#### Aca tuve que realiazar una segmentacion de datos, ya que trae estado del json y otros datos innecesario."
   ]
  },
  {
   "cell_type": "code",
   "execution_count": 14,
   "id": "035ff8df",
   "metadata": {},
   "outputs": [
    {
     "name": "stdout",
     "output_type": "stream",
     "text": [
      "[{'nombre': '3-D Man', 'descripcion': '', 'comics_disponible': 12, 'series_disponible': 3}, {'nombre': 'A-Bomb (HAS)', 'descripcion': \"Rick Jones has been Hulk's best bud since day one, but now he's more than a friend...he's a teammate! Transformed by a Gamma energy explosion, A-Bomb's thick, armored skin is just as strong and powerful as it is blue. And when he curls into action, he uses it like a giant bowling ball of destruction! \", 'comics_disponible': 4, 'series_disponible': 2}, {'nombre': 'A.I.M.', 'descripcion': 'AIM is a terrorist organization bent on destroying the world.', 'comics_disponible': 53, 'series_disponible': 36}, {'nombre': 'Aaron Stack', 'descripcion': '', 'comics_disponible': 14, 'series_disponible': 3}, {'nombre': 'Abomination (Emil Blonsky)', 'descripcion': 'Formerly known as Emil Blonsky, a spy of Soviet Yugoslavian origin working for the KGB, the Abomination gained his powers after receiving a dose of gamma radiation similar to that which transformed Bruce Banner into the incredible Hulk.', 'comics_disponible': 55, 'series_disponible': 27}, {'nombre': 'Abomination (Ultimate)', 'descripcion': '', 'comics_disponible': 2, 'series_disponible': 2}, {'nombre': 'Absorbing Man', 'descripcion': '', 'comics_disponible': 97, 'series_disponible': 48}, {'nombre': 'Abyss', 'descripcion': '', 'comics_disponible': 8, 'series_disponible': 3}, {'nombre': 'Abyss (Age of Apocalypse)', 'descripcion': '', 'comics_disponible': 3, 'series_disponible': 3}, {'nombre': 'Adam Destine', 'descripcion': '', 'comics_disponible': 0, 'series_disponible': 0}, {'nombre': 'Adam Warlock', 'descripcion': 'Adam Warlock is an artificially created human who was born in a cocoon at a scientific complex called The Beehive.', 'comics_disponible': 195, 'series_disponible': 87}, {'nombre': 'Aegis (Trey Rollins)', 'descripcion': '', 'comics_disponible': 0, 'series_disponible': 0}, {'nombre': 'Aero (Aero)', 'descripcion': '', 'comics_disponible': 29, 'series_disponible': 5}, {'nombre': 'Agatha Harkness', 'descripcion': '', 'comics_disponible': 21, 'series_disponible': 10}, {'nombre': 'Agent Brand', 'descripcion': '', 'comics_disponible': 30, 'series_disponible': 7}, {'nombre': 'Agent X (Nijo)', 'descripcion': \"Originally a partner of the mind-altering assassin Black Swan, Nijo spied on Deadpool as part of the Swan's plan to exact revenge for Deadpool falsely taking credit for the Swan's assassination of the Four Winds crime family, which included Nijo's brother.\", 'comics_disponible': 18, 'series_disponible': 3}, {'nombre': 'Agent Zero', 'descripcion': '', 'comics_disponible': 29, 'series_disponible': 10}, {'nombre': 'Agents of Atlas', 'descripcion': '', 'comics_disponible': 45, 'series_disponible': 13}, {'nombre': 'Aginar', 'descripcion': '', 'comics_disponible': 0, 'series_disponible': 0}, {'nombre': 'Air-Walker (Gabriel Lan)', 'descripcion': '', 'comics_disponible': 4, 'series_disponible': 3}]\n",
      "20\n"
     ]
    }
   ],
   "source": [
    "lista = []\n",
    "\n",
    "for i in datos [\"data\"][\"results\"]:\n",
    "    nombre = i[\"name\"]\n",
    "    descripcion = i[\"description\"]\n",
    "    comics_disponible = i[\"comics\"][\"available\"]\n",
    "    series_disponibles = i[\"series\"][\"available\"]\n",
    "    dic = {\"nombre\":nombre, \"descripcion\":descripcion,\"comics_disponible\": comics_disponible, \"series_disponible\":series_disponibles}\n",
    "    lista.append(dic)\n",
    "    \n",
    "print(lista)\n",
    "print(len(lista))\n",
    "    "
   ]
  },
  {
   "cell_type": "markdown",
   "id": "328ebc48",
   "metadata": {},
   "source": [
    "#### Se paso el diccionario, que cree con los datos a un DataFrame"
   ]
  },
  {
   "cell_type": "code",
   "execution_count": 15,
   "id": "cb9182fa",
   "metadata": {},
   "outputs": [],
   "source": [
    "df = pd.DataFrame(lista)"
   ]
  },
  {
   "cell_type": "code",
   "execution_count": 16,
   "id": "50398826",
   "metadata": {},
   "outputs": [
    {
     "data": {
      "text/html": [
       "<div>\n",
       "<style scoped>\n",
       "    .dataframe tbody tr th:only-of-type {\n",
       "        vertical-align: middle;\n",
       "    }\n",
       "\n",
       "    .dataframe tbody tr th {\n",
       "        vertical-align: top;\n",
       "    }\n",
       "\n",
       "    .dataframe thead th {\n",
       "        text-align: right;\n",
       "    }\n",
       "</style>\n",
       "<table border=\"1\" class=\"dataframe\">\n",
       "  <thead>\n",
       "    <tr style=\"text-align: right;\">\n",
       "      <th></th>\n",
       "      <th>nombre</th>\n",
       "      <th>descripcion</th>\n",
       "      <th>comics_disponible</th>\n",
       "      <th>series_disponible</th>\n",
       "    </tr>\n",
       "  </thead>\n",
       "  <tbody>\n",
       "    <tr>\n",
       "      <th>0</th>\n",
       "      <td>3-D Man</td>\n",
       "      <td></td>\n",
       "      <td>12</td>\n",
       "      <td>3</td>\n",
       "    </tr>\n",
       "    <tr>\n",
       "      <th>1</th>\n",
       "      <td>A-Bomb (HAS)</td>\n",
       "      <td>Rick Jones has been Hulk's best bud since day ...</td>\n",
       "      <td>4</td>\n",
       "      <td>2</td>\n",
       "    </tr>\n",
       "    <tr>\n",
       "      <th>2</th>\n",
       "      <td>A.I.M.</td>\n",
       "      <td>AIM is a terrorist organization bent on destro...</td>\n",
       "      <td>53</td>\n",
       "      <td>36</td>\n",
       "    </tr>\n",
       "    <tr>\n",
       "      <th>3</th>\n",
       "      <td>Aaron Stack</td>\n",
       "      <td></td>\n",
       "      <td>14</td>\n",
       "      <td>3</td>\n",
       "    </tr>\n",
       "    <tr>\n",
       "      <th>4</th>\n",
       "      <td>Abomination (Emil Blonsky)</td>\n",
       "      <td>Formerly known as Emil Blonsky, a spy of Sovie...</td>\n",
       "      <td>55</td>\n",
       "      <td>27</td>\n",
       "    </tr>\n",
       "  </tbody>\n",
       "</table>\n",
       "</div>"
      ],
      "text/plain": [
       "                       nombre  \\\n",
       "0                     3-D Man   \n",
       "1                A-Bomb (HAS)   \n",
       "2                      A.I.M.   \n",
       "3                 Aaron Stack   \n",
       "4  Abomination (Emil Blonsky)   \n",
       "\n",
       "                                         descripcion  comics_disponible  \\\n",
       "0                                                                    12   \n",
       "1  Rick Jones has been Hulk's best bud since day ...                  4   \n",
       "2  AIM is a terrorist organization bent on destro...                 53   \n",
       "3                                                                    14   \n",
       "4  Formerly known as Emil Blonsky, a spy of Sovie...                 55   \n",
       "\n",
       "   series_disponible  \n",
       "0                  3  \n",
       "1                  2  \n",
       "2                 36  \n",
       "3                  3  \n",
       "4                 27  "
      ]
     },
     "execution_count": 16,
     "metadata": {},
     "output_type": "execute_result"
    }
   ],
   "source": [
    "df.head()"
   ]
  },
  {
   "cell_type": "code",
   "execution_count": null,
   "id": "c418e22e",
   "metadata": {},
   "outputs": [],
   "source": []
  }
 ],
 "metadata": {
  "kernelspec": {
   "display_name": "Python 3 (ipykernel)",
   "language": "python",
   "name": "python3"
  },
  "language_info": {
   "codemirror_mode": {
    "name": "ipython",
    "version": 3
   },
   "file_extension": ".py",
   "mimetype": "text/x-python",
   "name": "python",
   "nbconvert_exporter": "python",
   "pygments_lexer": "ipython3",
   "version": "3.9.12"
  }
 },
 "nbformat": 4,
 "nbformat_minor": 5
}
