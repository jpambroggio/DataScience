{
 "cells": [
  {
   "cell_type": "markdown",
   "id": "d1e6e166",
   "metadata": {},
   "source": [
    "### Proyecto Data Science (Delitos 2021) Parte III\n",
    "#### Regresion Lineal "
   ]
  },
  {
   "cell_type": "markdown",
   "id": "af8a0779",
   "metadata": {},
   "source": [
    "#### Realizamos la importacion de los datos"
   ]
  },
  {
   "cell_type": "code",
   "execution_count": 20,
   "id": "d5cded77",
   "metadata": {},
   "outputs": [
    {
     "data": {
      "text/html": [
       "<div>\n",
       "<style scoped>\n",
       "    .dataframe tbody tr th:only-of-type {\n",
       "        vertical-align: middle;\n",
       "    }\n",
       "\n",
       "    .dataframe tbody tr th {\n",
       "        vertical-align: top;\n",
       "    }\n",
       "\n",
       "    .dataframe thead th {\n",
       "        text-align: right;\n",
       "    }\n",
       "</style>\n",
       "<table border=\"1\" class=\"dataframe\">\n",
       "  <thead>\n",
       "    <tr style=\"text-align: right;\">\n",
       "      <th></th>\n",
       "      <th>anio</th>\n",
       "      <th>mes</th>\n",
       "      <th>dia</th>\n",
       "      <th>fecha</th>\n",
       "      <th>franja</th>\n",
       "      <th>tipo</th>\n",
       "      <th>subtipo</th>\n",
       "      <th>uso_armas</th>\n",
       "      <th>barrio</th>\n",
       "      <th>comuna</th>\n",
       "      <th>latitud</th>\n",
       "      <th>longitud</th>\n",
       "      <th>cantidad</th>\n",
       "    </tr>\n",
       "  </thead>\n",
       "  <tbody>\n",
       "    <tr>\n",
       "      <th>0</th>\n",
       "      <td>2021</td>\n",
       "      <td>Enero</td>\n",
       "      <td>Miércoles</td>\n",
       "      <td>06/01/2021</td>\n",
       "      <td>18</td>\n",
       "      <td>Homicidio</td>\n",
       "      <td>Siniestro Vial</td>\n",
       "      <td>NaN</td>\n",
       "      <td>Constitución</td>\n",
       "      <td>1.0</td>\n",
       "      <td>-34,62761</td>\n",
       "      <td>-58,379146</td>\n",
       "      <td>1</td>\n",
       "    </tr>\n",
       "    <tr>\n",
       "      <th>1</th>\n",
       "      <td>2021</td>\n",
       "      <td>Enero</td>\n",
       "      <td>Jueves</td>\n",
       "      <td>07/01/2021</td>\n",
       "      <td>10</td>\n",
       "      <td>Homicidio</td>\n",
       "      <td>Siniestro Vial</td>\n",
       "      <td>NaN</td>\n",
       "      <td>Mataderos</td>\n",
       "      <td>9.0</td>\n",
       "      <td>-34,64972969</td>\n",
       "      <td>-58,51058958</td>\n",
       "      <td>1</td>\n",
       "    </tr>\n",
       "    <tr>\n",
       "      <th>2</th>\n",
       "      <td>2021</td>\n",
       "      <td>Enero</td>\n",
       "      <td>Domingo</td>\n",
       "      <td>10/01/2021</td>\n",
       "      <td>7</td>\n",
       "      <td>Homicidio</td>\n",
       "      <td>Siniestro Vial</td>\n",
       "      <td>NaN</td>\n",
       "      <td>Parque Chacabuco</td>\n",
       "      <td>7.0</td>\n",
       "      <td>-34,62917196</td>\n",
       "      <td>-58,43058079</td>\n",
       "      <td>1</td>\n",
       "    </tr>\n",
       "    <tr>\n",
       "      <th>3</th>\n",
       "      <td>2021</td>\n",
       "      <td>Enero</td>\n",
       "      <td>Lunes</td>\n",
       "      <td>11/01/2021</td>\n",
       "      <td>9</td>\n",
       "      <td>Homicidio</td>\n",
       "      <td>Siniestro Vial</td>\n",
       "      <td>NaN</td>\n",
       "      <td>Nueva Pompeya</td>\n",
       "      <td>5.0</td>\n",
       "      <td>-34,63867577</td>\n",
       "      <td>-58,4145554</td>\n",
       "      <td>1</td>\n",
       "    </tr>\n",
       "    <tr>\n",
       "      <th>4</th>\n",
       "      <td>2021</td>\n",
       "      <td>Enero</td>\n",
       "      <td>Lunes</td>\n",
       "      <td>11/01/2021</td>\n",
       "      <td>21</td>\n",
       "      <td>Homicidio</td>\n",
       "      <td>Siniestro Vial</td>\n",
       "      <td>NaN</td>\n",
       "      <td>Parque Avellaneda</td>\n",
       "      <td>9.0</td>\n",
       "      <td>-34,64771436</td>\n",
       "      <td>-58,46806552</td>\n",
       "      <td>1</td>\n",
       "    </tr>\n",
       "  </tbody>\n",
       "</table>\n",
       "</div>"
      ],
      "text/plain": [
       "   anio    mes        dia       fecha franja       tipo         subtipo  \\\n",
       "0  2021  Enero  Miércoles  06/01/2021     18  Homicidio  Siniestro Vial   \n",
       "1  2021  Enero     Jueves  07/01/2021     10  Homicidio  Siniestro Vial   \n",
       "2  2021  Enero    Domingo  10/01/2021      7  Homicidio  Siniestro Vial   \n",
       "3  2021  Enero      Lunes  11/01/2021      9  Homicidio  Siniestro Vial   \n",
       "4  2021  Enero      Lunes  11/01/2021     21  Homicidio  Siniestro Vial   \n",
       "\n",
       "  uso_armas             barrio  comuna       latitud      longitud  cantidad  \n",
       "0       NaN       Constitución     1.0     -34,62761    -58,379146         1  \n",
       "1       NaN          Mataderos     9.0  -34,64972969  -58,51058958         1  \n",
       "2       NaN   Parque Chacabuco     7.0  -34,62917196  -58,43058079         1  \n",
       "3       NaN      Nueva Pompeya     5.0  -34,63867577   -58,4145554         1  \n",
       "4       NaN  Parque Avellaneda     9.0  -34,64771436  -58,46806552         1  "
      ]
     },
     "execution_count": 20,
     "metadata": {},
     "output_type": "execute_result"
    }
   ],
   "source": [
    "import seaborn as sns\n",
    "import matplotlib.pyplot as plt\n",
    "import pandas as pd\n",
    "import numpy as np\n",
    "\n",
    "df_delito = pd.read_csv('delitos_2021.csv', sep=\";\")\n",
    "df_delito.head()"
   ]
  },
  {
   "cell_type": "markdown",
   "id": "5828d762",
   "metadata": {},
   "source": [
    "#### Preprocesamiento de los datos y observar si la agrupacion de datos es correcta"
   ]
  },
  {
   "cell_type": "code",
   "execution_count": 19,
   "id": "bd1fbeb2",
   "metadata": {},
   "outputs": [
    {
     "data": {
      "text/html": [
       "<div>\n",
       "<style scoped>\n",
       "    .dataframe tbody tr th:only-of-type {\n",
       "        vertical-align: middle;\n",
       "    }\n",
       "\n",
       "    .dataframe tbody tr th {\n",
       "        vertical-align: top;\n",
       "    }\n",
       "\n",
       "    .dataframe thead th {\n",
       "        text-align: right;\n",
       "    }\n",
       "</style>\n",
       "<table border=\"1\" class=\"dataframe\">\n",
       "  <thead>\n",
       "    <tr style=\"text-align: right;\">\n",
       "      <th></th>\n",
       "      <th>anio</th>\n",
       "      <th>comuna</th>\n",
       "      <th>cantidad</th>\n",
       "    </tr>\n",
       "  </thead>\n",
       "  <tbody>\n",
       "    <tr>\n",
       "      <th>count</th>\n",
       "      <td>88567.0</td>\n",
       "      <td>87907.000000</td>\n",
       "      <td>88567.000000</td>\n",
       "    </tr>\n",
       "    <tr>\n",
       "      <th>mean</th>\n",
       "      <td>2021.0</td>\n",
       "      <td>7.538899</td>\n",
       "      <td>1.184143</td>\n",
       "    </tr>\n",
       "    <tr>\n",
       "      <th>std</th>\n",
       "      <td>0.0</td>\n",
       "      <td>4.554293</td>\n",
       "      <td>0.666930</td>\n",
       "    </tr>\n",
       "    <tr>\n",
       "      <th>min</th>\n",
       "      <td>2021.0</td>\n",
       "      <td>0.000000</td>\n",
       "      <td>1.000000</td>\n",
       "    </tr>\n",
       "    <tr>\n",
       "      <th>25%</th>\n",
       "      <td>2021.0</td>\n",
       "      <td>4.000000</td>\n",
       "      <td>1.000000</td>\n",
       "    </tr>\n",
       "    <tr>\n",
       "      <th>50%</th>\n",
       "      <td>2021.0</td>\n",
       "      <td>7.000000</td>\n",
       "      <td>1.000000</td>\n",
       "    </tr>\n",
       "    <tr>\n",
       "      <th>75%</th>\n",
       "      <td>2021.0</td>\n",
       "      <td>12.000000</td>\n",
       "      <td>1.000000</td>\n",
       "    </tr>\n",
       "    <tr>\n",
       "      <th>max</th>\n",
       "      <td>2021.0</td>\n",
       "      <td>15.000000</td>\n",
       "      <td>10.000000</td>\n",
       "    </tr>\n",
       "  </tbody>\n",
       "</table>\n",
       "</div>"
      ],
      "text/plain": [
       "          anio        comuna      cantidad\n",
       "count  88567.0  87907.000000  88567.000000\n",
       "mean    2021.0      7.538899      1.184143\n",
       "std        0.0      4.554293      0.666930\n",
       "min     2021.0      0.000000      1.000000\n",
       "25%     2021.0      4.000000      1.000000\n",
       "50%     2021.0      7.000000      1.000000\n",
       "75%     2021.0     12.000000      1.000000\n",
       "max     2021.0     15.000000     10.000000"
      ]
     },
     "execution_count": 19,
     "metadata": {},
     "output_type": "execute_result"
    }
   ],
   "source": [
    "delito.shape\n",
    "delito.describe()"
   ]
  },
  {
   "cell_type": "markdown",
   "id": "9c8d750b",
   "metadata": {},
   "source": [
    "#### Agrupacion de los datos"
   ]
  },
  {
   "cell_type": "code",
   "execution_count": 2,
   "id": "2b4a1790",
   "metadata": {},
   "outputs": [],
   "source": [
    "delito = df_delito"
   ]
  },
  {
   "cell_type": "code",
   "execution_count": 3,
   "id": "204f5ea0",
   "metadata": {},
   "outputs": [
    {
     "data": {
      "text/plain": [
       "<seaborn.axisgrid.PairGrid at 0x1e0c9578ee0>"
      ]
     },
     "execution_count": 3,
     "metadata": {},
     "output_type": "execute_result"
    },
    {
     "data": {
      "image/png": "[encoded data removed]",
      "text/plain": [
       "<Figure size 677.125x540 with 12 Axes>"
      ]
     },
     "metadata": {
      "needs_background": "light"
     },
     "output_type": "display_data"
    }
   ],
   "source": [
    "sns.pairplot(delito,hue='tipo')"
   ]
  },
  {
   "cell_type": "markdown",
   "id": "99c1cf31",
   "metadata": {},
   "source": [
    "#### En la agrupacion anterior se ve que los datos, numericos solo podremos utilizar cantidad y sobre esa variable numerica trabajeremos el proyecto. Pequeña grafica, sobre el tipo de datos que mostraremos sobre esas cantidades."
   ]
  },
  {
   "cell_type": "code",
   "execution_count": 4,
   "id": "0875e1a9",
   "metadata": {},
   "outputs": [
    {
     "data": {
      "text/plain": [
       "<seaborn.axisgrid.PairGrid at 0x1e0cff61490>"
      ]
     },
     "execution_count": 4,
     "metadata": {},
     "output_type": "execute_result"
    },
    {
     "data": {
      "image/png": "[encoded data removed]",
      "text/plain": [
       "<Figure size 317.125x180 with 1 Axes>"
      ]
     },
     "metadata": {
      "needs_background": "light"
     },
     "output_type": "display_data"
    }
   ],
   "source": [
    "sns.pairplot(delito,x_vars=['cantidad'],y_vars=['tipo'],hue='tipo')"
   ]
  },
  {
   "cell_type": "markdown",
   "id": "624c8cef",
   "metadata": {},
   "source": [
    "#### Creacion de Variables Ficticias, ya que contamos con datos categoricos de variables independientes (con las variables ficticias limitamos a valor especificos de 0 y 1)"
   ]
  },
  {
   "cell_type": "code",
   "execution_count": 21,
   "id": "36e1a505",
   "metadata": {},
   "outputs": [
    {
     "data": {
      "text/html": [
       "<div>\n",
       "<style scoped>\n",
       "    .dataframe tbody tr th:only-of-type {\n",
       "        vertical-align: middle;\n",
       "    }\n",
       "\n",
       "    .dataframe tbody tr th {\n",
       "        vertical-align: top;\n",
       "    }\n",
       "\n",
       "    .dataframe thead th {\n",
       "        text-align: right;\n",
       "    }\n",
       "</style>\n",
       "<table border=\"1\" class=\"dataframe\">\n",
       "  <thead>\n",
       "    <tr style=\"text-align: right;\">\n",
       "      <th></th>\n",
       "      <th>tipo_Hurto (sin violencia)</th>\n",
       "      <th>tipo_Lesiones</th>\n",
       "      <th>tipo_Robo (con violencia)</th>\n",
       "    </tr>\n",
       "  </thead>\n",
       "  <tbody>\n",
       "    <tr>\n",
       "      <th>0</th>\n",
       "      <td>0</td>\n",
       "      <td>0</td>\n",
       "      <td>0</td>\n",
       "    </tr>\n",
       "    <tr>\n",
       "      <th>1</th>\n",
       "      <td>0</td>\n",
       "      <td>0</td>\n",
       "      <td>0</td>\n",
       "    </tr>\n",
       "    <tr>\n",
       "      <th>2</th>\n",
       "      <td>0</td>\n",
       "      <td>0</td>\n",
       "      <td>0</td>\n",
       "    </tr>\n",
       "    <tr>\n",
       "      <th>3</th>\n",
       "      <td>0</td>\n",
       "      <td>0</td>\n",
       "      <td>0</td>\n",
       "    </tr>\n",
       "    <tr>\n",
       "      <th>4</th>\n",
       "      <td>0</td>\n",
       "      <td>0</td>\n",
       "      <td>0</td>\n",
       "    </tr>\n",
       "  </tbody>\n",
       "</table>\n",
       "</div>"
      ],
      "text/plain": [
       "   tipo_Hurto (sin violencia)  tipo_Lesiones  tipo_Robo (con violencia)\n",
       "0                           0              0                          0\n",
       "1                           0              0                          0\n",
       "2                           0              0                          0\n",
       "3                           0              0                          0\n",
       "4                           0              0                          0"
      ]
     },
     "execution_count": 21,
     "metadata": {},
     "output_type": "execute_result"
    }
   ],
   "source": [
    "X = delito[['tipo']]\n",
    "X = pd.get_dummies(data=X, drop_first=True) \n",
    "X.head()"
   ]
  },
  {
   "cell_type": "code",
   "execution_count": 22,
   "id": "b4d87208",
   "metadata": {},
   "outputs": [],
   "source": [
    "Y = delito['cantidad']"
   ]
  },
  {
   "cell_type": "markdown",
   "id": "3a987f2d",
   "metadata": {},
   "source": [
    "#### Creacion de un conjunto de Datos de entrenemiento y prueba (Dividir)"
   ]
  },
  {
   "cell_type": "code",
   "execution_count": 23,
   "id": "af6b7647",
   "metadata": {},
   "outputs": [
    {
     "name": "stdout",
     "output_type": "stream",
     "text": [
      "(61996, 3)\n",
      "(26571, 3)\n",
      "(61996,)\n",
      "(26571,)\n"
     ]
    }
   ],
   "source": [
    "from sklearn.model_selection import train_test_split\n",
    "### test de entrenamiento de 70/30\n",
    "X_train, X_test, y_train, y_test = train_test_split(X, Y, test_size=0.3, random_state=1)\n",
    "print(X_train.shape)\n",
    "print(X_test.shape)\n",
    "print(y_train.shape)\n",
    "print(y_test.shape)"
   ]
  },
  {
   "cell_type": "markdown",
   "id": "3c2db921",
   "metadata": {},
   "source": [
    "#### Metrica del Algoritmo de Regresion"
   ]
  },
  {
   "cell_type": "code",
   "execution_count": 37,
   "id": "30cb6921",
   "metadata": {},
   "outputs": [
    {
     "name": "stdout",
     "output_type": "stream",
     "text": [
      "1.0310077519379957\n"
     ]
    }
   ],
   "source": [
    "from sklearn.linear_model import LinearRegression\n",
    "### Creacion del modelo\n",
    "model = LinearRegression()\n",
    "### Ajuste del Modelo\n",
    "model.fit(X_train,y_train)\n",
    "print(model.intercept_)"
   ]
  },
  {
   "cell_type": "markdown",
   "id": "6e449c8c",
   "metadata": {},
   "source": [
    "#### Coeficiente de Variables"
   ]
  },
  {
   "cell_type": "code",
   "execution_count": 15,
   "id": "c7f58756",
   "metadata": {},
   "outputs": [
    {
     "data": {
      "text/html": [
       "<div>\n",
       "<style scoped>\n",
       "    .dataframe tbody tr th:only-of-type {\n",
       "        vertical-align: middle;\n",
       "    }\n",
       "\n",
       "    .dataframe tbody tr th {\n",
       "        vertical-align: top;\n",
       "    }\n",
       "\n",
       "    .dataframe thead th {\n",
       "        text-align: right;\n",
       "    }\n",
       "</style>\n",
       "<table border=\"1\" class=\"dataframe\">\n",
       "  <thead>\n",
       "    <tr style=\"text-align: right;\">\n",
       "      <th></th>\n",
       "      <th>Coefficient</th>\n",
       "    </tr>\n",
       "  </thead>\n",
       "  <tbody>\n",
       "    <tr>\n",
       "      <th>tipo_Hurto (sin violencia)</th>\n",
       "      <td>0.163765</td>\n",
       "    </tr>\n",
       "    <tr>\n",
       "      <th>tipo_Lesiones</th>\n",
       "      <td>0.132080</td>\n",
       "    </tr>\n",
       "    <tr>\n",
       "      <th>tipo_Robo (con violencia)</th>\n",
       "      <td>0.158559</td>\n",
       "    </tr>\n",
       "  </tbody>\n",
       "</table>\n",
       "</div>"
      ],
      "text/plain": [
       "                            Coefficient\n",
       "tipo_Hurto (sin violencia)     0.163765\n",
       "tipo_Lesiones                  0.132080\n",
       "tipo_Robo (con violencia)      0.158559"
      ]
     },
     "execution_count": 15,
     "metadata": {},
     "output_type": "execute_result"
    }
   ],
   "source": [
    "coeff_parameter = pd.DataFrame(model.coef_,X.columns,columns=['Coefficient'])\n",
    "coeff_parameter"
   ]
  },
  {
   "cell_type": "markdown",
   "id": "2d676c25",
   "metadata": {},
   "source": [
    "#### Modelo Predictivo"
   ]
  },
  {
   "cell_type": "code",
   "execution_count": 47,
   "id": "a2b4a8bc",
   "metadata": {},
   "outputs": [
    {
     "data": {
      "text/plain": [
       "array([1.19157961, 1.19157961, 1.18441997, ..., 1.19157961, 1.19157961,\n",
       "       1.161426  ])"
      ]
     },
     "execution_count": 47,
     "metadata": {},
     "output_type": "execute_result"
    }
   ],
   "source": [
    "predictions = model.predict(X_test)\n",
    "predictions"
   ]
  },
  {
   "cell_type": "code",
   "execution_count": 48,
   "id": "75771fdd",
   "metadata": {
    "scrolled": true
   },
   "outputs": [
    {
     "name": "stderr",
     "output_type": "stream",
     "text": [
      "C:\\ProgramData\\Anaconda3\\lib\\site-packages\\seaborn\\_decorators.py:36: FutureWarning: Pass the following variables as keyword args: x, y. From version 0.12, the only valid positional argument will be `data`, and passing other arguments without an explicit keyword will result in an error or misinterpretation.\n",
      "  warnings.warn(\n"
     ]
    },
    {
     "data": {
      "text/plain": [
       "<AxesSubplot:xlabel='cantidad'>"
      ]
     },
     "execution_count": 48,
     "metadata": {},
     "output_type": "execute_result"
    },
    {
     "data": {
      "image/png": "[encoded data removed]",
      "text/plain": [
       "<Figure size 432x288 with 1 Axes>"
      ]
     },
     "metadata": {
      "needs_background": "light"
     },
     "output_type": "display_data"
    }
   ],
   "source": [
    "sns.regplot(y_test,predictions)"
   ]
  },
  {
   "cell_type": "markdown",
   "id": "0654994e",
   "metadata": {},
   "source": [
    "#### Metrica R2"
   ]
  },
  {
   "cell_type": "code",
   "execution_count": 49,
   "id": "893263bb",
   "metadata": {},
   "outputs": [
    {
     "name": "stdout",
     "output_type": "stream",
     "text": [
      "0.00018051191666779154\n"
     ]
    }
   ],
   "source": [
    "from sklearn.metrics import r2_score\n",
    "y_pred = model.predict(X_test)\n",
    "r2 = r2_score(y_test,y_pred)\n",
    "print(r2)"
   ]
  },
  {
   "cell_type": "markdown",
   "id": "c57362ff",
   "metadata": {},
   "source": [
    "#### Valores Rsquare"
   ]
  },
  {
   "cell_type": "code",
   "execution_count": 18,
   "id": "a40e2fe7",
   "metadata": {},
   "outputs": [
    {
     "name": "stdout",
     "output_type": "stream",
     "text": [
      "                            OLS Regression Results                            \n",
      "==============================================================================\n",
      "Dep. Variable:               cantidad   R-squared:                       0.000\n",
      "Model:                            OLS   Adj. R-squared:                  0.000\n",
      "Method:                 Least Squares   F-statistic:                     6.279\n",
      "Date:                Thu, 25 May 2023   Prob (F-statistic):           0.000296\n",
      "Time:                        20:39:13   Log-Likelihood:                -72220.\n",
      "No. Observations:               70853   AIC:                         1.444e+05\n",
      "Df Residuals:                   70849   BIC:                         1.445e+05\n",
      "Df Model:                           3                                         \n",
      "Covariance Type:            nonrobust                                         \n",
      "==============================================================================================\n",
      "                                 coef    std err          t      P>|t|      [0.025      0.975]\n",
      "----------------------------------------------------------------------------------------------\n",
      "const                          1.0272      0.055     18.573      0.000       0.919       1.136\n",
      "tipo_Hurto (sin violencia)     0.1638      0.055      2.954      0.003       0.055       0.272\n",
      "tipo_Lesiones                  0.1321      0.056      2.358      0.018       0.022       0.242\n",
      "tipo_Robo (con violencia)      0.1586      0.055      2.861      0.004       0.050       0.267\n",
      "==============================================================================\n",
      "Omnibus:                    62420.012   Durbin-Watson:                   2.001\n",
      "Prob(Omnibus):                  0.000   Jarque-Bera (JB):          1469225.321\n",
      "Skew:                           4.426   Prob(JB):                         0.00\n",
      "Kurtosis:                      23.477   Cond. No.                         52.8\n",
      "==============================================================================\n",
      "\n",
      "Notes:\n",
      "[1] Standard Errors assume that the covariance matrix of the errors is correctly specified.\n"
     ]
    }
   ],
   "source": [
    "import statsmodels.api as sm\n",
    "X_train_Sm= sm.add_constant(X_train)\n",
    "X_train_Sm= sm.add_constant(X_train)\n",
    "ls=sm.OLS(y_train,X_train_Sm).fit()\n",
    "print(ls.summary())"
   ]
  },
  {
   "cell_type": "code",
   "execution_count": null,
   "id": "5c81ec0f",
   "metadata": {},
   "outputs": [],
   "source": []
  }
 ],
 "metadata": {
  "kernelspec": {
   "display_name": "Python 3 (ipykernel)",
   "language": "python",
   "name": "python3"
  },
  "language_info": {
   "codemirror_mode": {
    "name": "ipython",
    "version": 3
   },
   "file_extension": ".py",
   "mimetype": "text/x-python",
   "name": "python",
   "nbconvert_exporter": "python",
   "pygments_lexer": "ipython3",
   "version": "3.9.12"
  }
 },
 "nbformat": 4,
 "nbformat_minor": 5
}
