{
 "cells": [
  {
   "cell_type": "markdown",
   "id": "53205b37",
   "metadata": {},
   "source": [
    "### Proyecto Data Science "
   ]
  },
  {
   "cell_type": "markdown",
   "id": "11343180",
   "metadata": {},
   "source": [
    "\n",
    "Contamos con un informe donde se muestra los delitos denunciados en la ciudad de Buenos Aires durante el año 2021, en el cual clasifica fecha, dia, franja (Horario),zona, tipo de delito, cantidad de delitos. Un analisis, para poder comprarar la zona mas caliente (peligrosa), y los tipo de delitos que ocurren alli. Esto sumando que se pueden tomar decisiones politicas sobre seguridad, en dias y horarios mas problematicos.\n",
    "\n",
    "                                                  fuente: https://data.buenosaires.gob.ar/dataset/"
   ]
  },
  {
   "cell_type": "markdown",
   "id": "ff11a1bf",
   "metadata": {},
   "source": [
    "Presentacion del Dataset (Delitos 2021)"
   ]
  },
  {
   "cell_type": "code",
   "execution_count": 22,
   "id": "4e0ad34f",
   "metadata": {},
   "outputs": [
    {
     "data": {
      "text/html": [
       "<div>\n",
       "<style scoped>\n",
       "    .dataframe tbody tr th:only-of-type {\n",
       "        vertical-align: middle;\n",
       "    }\n",
       "\n",
       "    .dataframe tbody tr th {\n",
       "        vertical-align: top;\n",
       "    }\n",
       "\n",
       "    .dataframe thead th {\n",
       "        text-align: right;\n",
       "    }\n",
       "</style>\n",
       "<table border=\"1\" class=\"dataframe\">\n",
       "  <thead>\n",
       "    <tr style=\"text-align: right;\">\n",
       "      <th></th>\n",
       "      <th>id-mapa</th>\n",
       "      <th>anio</th>\n",
       "      <th>mes</th>\n",
       "      <th>dia</th>\n",
       "      <th>fecha</th>\n",
       "      <th>franja</th>\n",
       "      <th>tipo</th>\n",
       "      <th>subtipo</th>\n",
       "      <th>uso_armas</th>\n",
       "      <th>barrio</th>\n",
       "      <th>comuna</th>\n",
       "      <th>latitud</th>\n",
       "      <th>longitud</th>\n",
       "      <th>cantidad</th>\n",
       "    </tr>\n",
       "  </thead>\n",
       "  <tbody>\n",
       "    <tr>\n",
       "      <th>0</th>\n",
       "      <td>LC-2021-1000090</td>\n",
       "      <td>2021</td>\n",
       "      <td>Enero</td>\n",
       "      <td>Viernes</td>\n",
       "      <td>01/01/2021</td>\n",
       "      <td>0</td>\n",
       "      <td>Lesiones</td>\n",
       "      <td>Siniestro Vial</td>\n",
       "      <td>NaN</td>\n",
       "      <td>Villa Lugano</td>\n",
       "      <td>8.0</td>\n",
       "      <td>-34</td>\n",
       "      <td>672422</td>\n",
       "      <td>2</td>\n",
       "    </tr>\n",
       "    <tr>\n",
       "      <th>1</th>\n",
       "      <td>LC-2021-1000306</td>\n",
       "      <td>2021</td>\n",
       "      <td>Enero</td>\n",
       "      <td>Viernes</td>\n",
       "      <td>01/01/2021</td>\n",
       "      <td>7</td>\n",
       "      <td>Lesiones</td>\n",
       "      <td>Siniestro Vial</td>\n",
       "      <td>NaN</td>\n",
       "      <td>NaN</td>\n",
       "      <td>0.0</td>\n",
       "      <td>20</td>\n",
       "      <td>20</td>\n",
       "      <td>1</td>\n",
       "    </tr>\n",
       "    <tr>\n",
       "      <th>2</th>\n",
       "      <td>LC-2021-1000361</td>\n",
       "      <td>2021</td>\n",
       "      <td>Enero</td>\n",
       "      <td>Viernes</td>\n",
       "      <td>01/01/2021</td>\n",
       "      <td>10</td>\n",
       "      <td>Lesiones</td>\n",
       "      <td>Siniestro Vial</td>\n",
       "      <td>NaN</td>\n",
       "      <td>San Telmo</td>\n",
       "      <td>1.0</td>\n",
       "      <td>-34</td>\n",
       "      <td>621941</td>\n",
       "      <td>1</td>\n",
       "    </tr>\n",
       "    <tr>\n",
       "      <th>3</th>\n",
       "      <td>LC-2021-1000449</td>\n",
       "      <td>2021</td>\n",
       "      <td>Enero</td>\n",
       "      <td>Viernes</td>\n",
       "      <td>01/01/2021</td>\n",
       "      <td>6</td>\n",
       "      <td>Lesiones</td>\n",
       "      <td>Siniestro Vial</td>\n",
       "      <td>NaN</td>\n",
       "      <td>Boca</td>\n",
       "      <td>4.0</td>\n",
       "      <td>-34</td>\n",
       "      <td>637012</td>\n",
       "      <td>1</td>\n",
       "    </tr>\n",
       "    <tr>\n",
       "      <th>4</th>\n",
       "      <td>LC-2021-1000572</td>\n",
       "      <td>2021</td>\n",
       "      <td>Enero</td>\n",
       "      <td>Viernes</td>\n",
       "      <td>01/01/2021</td>\n",
       "      <td>10</td>\n",
       "      <td>Lesiones</td>\n",
       "      <td>Siniestro Vial</td>\n",
       "      <td>NaN</td>\n",
       "      <td>Boca</td>\n",
       "      <td>4.0</td>\n",
       "      <td>-34</td>\n",
       "      <td>637213</td>\n",
       "      <td>1</td>\n",
       "    </tr>\n",
       "  </tbody>\n",
       "</table>\n",
       "</div>"
      ],
      "text/plain": [
       "           id-mapa  anio    mes      dia       fecha  franja      tipo  \\\n",
       "0  LC-2021-1000090  2021  Enero  Viernes  01/01/2021       0  Lesiones   \n",
       "1  LC-2021-1000306  2021  Enero  Viernes  01/01/2021       7  Lesiones   \n",
       "2  LC-2021-1000361  2021  Enero  Viernes  01/01/2021      10  Lesiones   \n",
       "3  LC-2021-1000449  2021  Enero  Viernes  01/01/2021       6  Lesiones   \n",
       "4  LC-2021-1000572  2021  Enero  Viernes  01/01/2021      10  Lesiones   \n",
       "\n",
       "          subtipo uso_armas        barrio  comuna  latitud  longitud  cantidad  \n",
       "0  Siniestro Vial       NaN  Villa Lugano     8.0      -34    672422         2  \n",
       "1  Siniestro Vial       NaN           NaN     0.0       20        20         1  \n",
       "2  Siniestro Vial       NaN     San Telmo     1.0      -34    621941         1  \n",
       "3  Siniestro Vial       NaN          Boca     4.0      -34    637012         1  \n",
       "4  Siniestro Vial       NaN          Boca     4.0      -34    637213         1  "
      ]
     },
     "execution_count": 22,
     "metadata": {},
     "output_type": "execute_result"
    }
   ],
   "source": [
    "import matplotlib as mpl\n",
    "import matplotlib.pyplot as plt\n",
    "import seaborn as sns\n",
    "import pandas as pd\n",
    "\n",
    "df_delito = pd.read_csv('delitos_2021.csv', sep=\";\")\n",
    "df_delitob = df_delito\n",
    "\n",
    "df_delito.head()"
   ]
  },
  {
   "cell_type": "markdown",
   "id": "2146433a",
   "metadata": {},
   "source": [
    "#### Muestra de cantidad de registros y columnas."
   ]
  },
  {
   "cell_type": "code",
   "execution_count": 23,
   "id": "e75ec66b",
   "metadata": {},
   "outputs": [
    {
     "name": "stdout",
     "output_type": "stream",
     "text": [
      "<class 'pandas.core.frame.DataFrame'>\n",
      "RangeIndex: 88567 entries, 0 to 88566\n",
      "Data columns (total 14 columns):\n",
      " #   Column     Non-Null Count  Dtype  \n",
      "---  ------     --------------  -----  \n",
      " 0   id-mapa    88567 non-null  object \n",
      " 1   anio       88567 non-null  int64  \n",
      " 2   mes        88567 non-null  object \n",
      " 3   dia        88567 non-null  object \n",
      " 4   fecha      88567 non-null  object \n",
      " 5   franja     88567 non-null  int64  \n",
      " 6   tipo       88567 non-null  object \n",
      " 7   subtipo    16321 non-null  object \n",
      " 8   uso_armas  8472 non-null   object \n",
      " 9   barrio     87390 non-null  object \n",
      " 10  comuna     87907 non-null  float64\n",
      " 11  latitud    88567 non-null  int64  \n",
      " 12  longitud   88567 non-null  int64  \n",
      " 13  cantidad   88567 non-null  int64  \n",
      "dtypes: float64(1), int64(5), object(8)\n",
      "memory usage: 9.5+ MB\n"
     ]
    }
   ],
   "source": [
    "df_delito.info()"
   ]
  },
  {
   "cell_type": "code",
   "execution_count": 24,
   "id": "343a5c2c",
   "metadata": {},
   "outputs": [
    {
     "data": {
      "text/plain": [
       "(88567, 14)"
      ]
     },
     "execution_count": 24,
     "metadata": {},
     "output_type": "execute_result"
    }
   ],
   "source": [
    "df_delito.shape"
   ]
  },
  {
   "cell_type": "markdown",
   "id": "b6a9b478",
   "metadata": {},
   "source": [
    "#### Convertir la columna id-mapa y se convierte en indice"
   ]
  },
  {
   "cell_type": "code",
   "execution_count": 25,
   "id": "3d42d8ea",
   "metadata": {},
   "outputs": [
    {
     "data": {
      "text/html": [
       "<div>\n",
       "<style scoped>\n",
       "    .dataframe tbody tr th:only-of-type {\n",
       "        vertical-align: middle;\n",
       "    }\n",
       "\n",
       "    .dataframe tbody tr th {\n",
       "        vertical-align: top;\n",
       "    }\n",
       "\n",
       "    .dataframe thead th {\n",
       "        text-align: right;\n",
       "    }\n",
       "</style>\n",
       "<table border=\"1\" class=\"dataframe\">\n",
       "  <thead>\n",
       "    <tr style=\"text-align: right;\">\n",
       "      <th></th>\n",
       "      <th>anio</th>\n",
       "      <th>mes</th>\n",
       "      <th>dia</th>\n",
       "      <th>fecha</th>\n",
       "      <th>franja</th>\n",
       "      <th>tipo</th>\n",
       "      <th>subtipo</th>\n",
       "      <th>uso_armas</th>\n",
       "      <th>barrio</th>\n",
       "      <th>comuna</th>\n",
       "      <th>latitud</th>\n",
       "      <th>longitud</th>\n",
       "      <th>cantidad</th>\n",
       "    </tr>\n",
       "    <tr>\n",
       "      <th>id-mapa</th>\n",
       "      <th></th>\n",
       "      <th></th>\n",
       "      <th></th>\n",
       "      <th></th>\n",
       "      <th></th>\n",
       "      <th></th>\n",
       "      <th></th>\n",
       "      <th></th>\n",
       "      <th></th>\n",
       "      <th></th>\n",
       "      <th></th>\n",
       "      <th></th>\n",
       "      <th></th>\n",
       "    </tr>\n",
       "  </thead>\n",
       "  <tbody>\n",
       "    <tr>\n",
       "      <th>LC-2021-1000090</th>\n",
       "      <td>2021</td>\n",
       "      <td>Enero</td>\n",
       "      <td>Viernes</td>\n",
       "      <td>01/01/2021</td>\n",
       "      <td>0</td>\n",
       "      <td>Lesiones</td>\n",
       "      <td>Siniestro Vial</td>\n",
       "      <td>NaN</td>\n",
       "      <td>Villa Lugano</td>\n",
       "      <td>8.0</td>\n",
       "      <td>-34</td>\n",
       "      <td>672422</td>\n",
       "      <td>2</td>\n",
       "    </tr>\n",
       "    <tr>\n",
       "      <th>LC-2021-1000306</th>\n",
       "      <td>2021</td>\n",
       "      <td>Enero</td>\n",
       "      <td>Viernes</td>\n",
       "      <td>01/01/2021</td>\n",
       "      <td>7</td>\n",
       "      <td>Lesiones</td>\n",
       "      <td>Siniestro Vial</td>\n",
       "      <td>NaN</td>\n",
       "      <td>NaN</td>\n",
       "      <td>0.0</td>\n",
       "      <td>20</td>\n",
       "      <td>20</td>\n",
       "      <td>1</td>\n",
       "    </tr>\n",
       "    <tr>\n",
       "      <th>LC-2021-1000361</th>\n",
       "      <td>2021</td>\n",
       "      <td>Enero</td>\n",
       "      <td>Viernes</td>\n",
       "      <td>01/01/2021</td>\n",
       "      <td>10</td>\n",
       "      <td>Lesiones</td>\n",
       "      <td>Siniestro Vial</td>\n",
       "      <td>NaN</td>\n",
       "      <td>San Telmo</td>\n",
       "      <td>1.0</td>\n",
       "      <td>-34</td>\n",
       "      <td>621941</td>\n",
       "      <td>1</td>\n",
       "    </tr>\n",
       "    <tr>\n",
       "      <th>LC-2021-1000449</th>\n",
       "      <td>2021</td>\n",
       "      <td>Enero</td>\n",
       "      <td>Viernes</td>\n",
       "      <td>01/01/2021</td>\n",
       "      <td>6</td>\n",
       "      <td>Lesiones</td>\n",
       "      <td>Siniestro Vial</td>\n",
       "      <td>NaN</td>\n",
       "      <td>Boca</td>\n",
       "      <td>4.0</td>\n",
       "      <td>-34</td>\n",
       "      <td>637012</td>\n",
       "      <td>1</td>\n",
       "    </tr>\n",
       "    <tr>\n",
       "      <th>LC-2021-1000572</th>\n",
       "      <td>2021</td>\n",
       "      <td>Enero</td>\n",
       "      <td>Viernes</td>\n",
       "      <td>01/01/2021</td>\n",
       "      <td>10</td>\n",
       "      <td>Lesiones</td>\n",
       "      <td>Siniestro Vial</td>\n",
       "      <td>NaN</td>\n",
       "      <td>Boca</td>\n",
       "      <td>4.0</td>\n",
       "      <td>-34</td>\n",
       "      <td>637213</td>\n",
       "      <td>1</td>\n",
       "    </tr>\n",
       "    <tr>\n",
       "      <th>...</th>\n",
       "      <td>...</td>\n",
       "      <td>...</td>\n",
       "      <td>...</td>\n",
       "      <td>...</td>\n",
       "      <td>...</td>\n",
       "      <td>...</td>\n",
       "      <td>...</td>\n",
       "      <td>...</td>\n",
       "      <td>...</td>\n",
       "      <td>...</td>\n",
       "      <td>...</td>\n",
       "      <td>...</td>\n",
       "      <td>...</td>\n",
       "    </tr>\n",
       "    <tr>\n",
       "      <th>RH-2021-3111653</th>\n",
       "      <td>2021</td>\n",
       "      <td>Diciembre</td>\n",
       "      <td>Viernes</td>\n",
       "      <td>31/12/2021</td>\n",
       "      <td>19</td>\n",
       "      <td>Robo (con violencia)</td>\n",
       "      <td>NaN</td>\n",
       "      <td>NaN</td>\n",
       "      <td>San Telmo</td>\n",
       "      <td>1.0</td>\n",
       "      <td>-34</td>\n",
       "      <td>618627</td>\n",
       "      <td>1</td>\n",
       "    </tr>\n",
       "    <tr>\n",
       "      <th>RH-2021-3111702</th>\n",
       "      <td>2021</td>\n",
       "      <td>Diciembre</td>\n",
       "      <td>Viernes</td>\n",
       "      <td>31/12/2021</td>\n",
       "      <td>2</td>\n",
       "      <td>Hurto (sin violencia)</td>\n",
       "      <td>NaN</td>\n",
       "      <td>NaN</td>\n",
       "      <td>Recoleta</td>\n",
       "      <td>2.0</td>\n",
       "      <td>-34</td>\n",
       "      <td>597475</td>\n",
       "      <td>1</td>\n",
       "    </tr>\n",
       "    <tr>\n",
       "      <th>RH-2021-3111754</th>\n",
       "      <td>2021</td>\n",
       "      <td>Diciembre</td>\n",
       "      <td>Viernes</td>\n",
       "      <td>31/12/2021</td>\n",
       "      <td>12</td>\n",
       "      <td>Robo (con violencia)</td>\n",
       "      <td>NaN</td>\n",
       "      <td>NaN</td>\n",
       "      <td>Colegiales</td>\n",
       "      <td>13.0</td>\n",
       "      <td>-34</td>\n",
       "      <td>574402</td>\n",
       "      <td>2</td>\n",
       "    </tr>\n",
       "    <tr>\n",
       "      <th>RH-2021-3111781</th>\n",
       "      <td>2021</td>\n",
       "      <td>Diciembre</td>\n",
       "      <td>Viernes</td>\n",
       "      <td>31/12/2021</td>\n",
       "      <td>19</td>\n",
       "      <td>Hurto (sin violencia)</td>\n",
       "      <td>NaN</td>\n",
       "      <td>NaN</td>\n",
       "      <td>Villa Del Parque</td>\n",
       "      <td>11.0</td>\n",
       "      <td>-34</td>\n",
       "      <td>610161</td>\n",
       "      <td>1</td>\n",
       "    </tr>\n",
       "    <tr>\n",
       "      <th>RH-2021-3112295</th>\n",
       "      <td>2021</td>\n",
       "      <td>Diciembre</td>\n",
       "      <td>Viernes</td>\n",
       "      <td>31/12/2021</td>\n",
       "      <td>10</td>\n",
       "      <td>Robo (con violencia)</td>\n",
       "      <td>NaN</td>\n",
       "      <td>NaN</td>\n",
       "      <td>Palermo</td>\n",
       "      <td>14.0</td>\n",
       "      <td>-34</td>\n",
       "      <td>591937</td>\n",
       "      <td>1</td>\n",
       "    </tr>\n",
       "  </tbody>\n",
       "</table>\n",
       "<p>88567 rows × 13 columns</p>\n",
       "</div>"
      ],
      "text/plain": [
       "                 anio        mes      dia       fecha  franja  \\\n",
       "id-mapa                                                         \n",
       "LC-2021-1000090  2021      Enero  Viernes  01/01/2021       0   \n",
       "LC-2021-1000306  2021      Enero  Viernes  01/01/2021       7   \n",
       "LC-2021-1000361  2021      Enero  Viernes  01/01/2021      10   \n",
       "LC-2021-1000449  2021      Enero  Viernes  01/01/2021       6   \n",
       "LC-2021-1000572  2021      Enero  Viernes  01/01/2021      10   \n",
       "...               ...        ...      ...         ...     ...   \n",
       "RH-2021-3111653  2021  Diciembre  Viernes  31/12/2021      19   \n",
       "RH-2021-3111702  2021  Diciembre  Viernes  31/12/2021       2   \n",
       "RH-2021-3111754  2021  Diciembre  Viernes  31/12/2021      12   \n",
       "RH-2021-3111781  2021  Diciembre  Viernes  31/12/2021      19   \n",
       "RH-2021-3112295  2021  Diciembre  Viernes  31/12/2021      10   \n",
       "\n",
       "                                  tipo         subtipo uso_armas  \\\n",
       "id-mapa                                                            \n",
       "LC-2021-1000090               Lesiones  Siniestro Vial       NaN   \n",
       "LC-2021-1000306               Lesiones  Siniestro Vial       NaN   \n",
       "LC-2021-1000361               Lesiones  Siniestro Vial       NaN   \n",
       "LC-2021-1000449               Lesiones  Siniestro Vial       NaN   \n",
       "LC-2021-1000572               Lesiones  Siniestro Vial       NaN   \n",
       "...                                ...             ...       ...   \n",
       "RH-2021-3111653   Robo (con violencia)             NaN       NaN   \n",
       "RH-2021-3111702  Hurto (sin violencia)             NaN       NaN   \n",
       "RH-2021-3111754   Robo (con violencia)             NaN       NaN   \n",
       "RH-2021-3111781  Hurto (sin violencia)             NaN       NaN   \n",
       "RH-2021-3112295   Robo (con violencia)             NaN       NaN   \n",
       "\n",
       "                           barrio  comuna  latitud  longitud  cantidad  \n",
       "id-mapa                                                                 \n",
       "LC-2021-1000090      Villa Lugano     8.0      -34    672422         2  \n",
       "LC-2021-1000306               NaN     0.0       20        20         1  \n",
       "LC-2021-1000361         San Telmo     1.0      -34    621941         1  \n",
       "LC-2021-1000449              Boca     4.0      -34    637012         1  \n",
       "LC-2021-1000572              Boca     4.0      -34    637213         1  \n",
       "...                           ...     ...      ...       ...       ...  \n",
       "RH-2021-3111653         San Telmo     1.0      -34    618627         1  \n",
       "RH-2021-3111702          Recoleta     2.0      -34    597475         1  \n",
       "RH-2021-3111754        Colegiales    13.0      -34    574402         2  \n",
       "RH-2021-3111781  Villa Del Parque    11.0      -34    610161         1  \n",
       "RH-2021-3112295           Palermo    14.0      -34    591937         1  \n",
       "\n",
       "[88567 rows x 13 columns]"
      ]
     },
     "execution_count": 25,
     "metadata": {},
     "output_type": "execute_result"
    }
   ],
   "source": [
    "df_delito.set_index('id-mapa', drop = True, inplace = True)\n",
    "df_delito"
   ]
  },
  {
   "cell_type": "markdown",
   "id": "9fccab24",
   "metadata": {},
   "source": [
    "#### Verificación de Nulos"
   ]
  },
  {
   "cell_type": "code",
   "execution_count": 26,
   "id": "f5be86f0",
   "metadata": {},
   "outputs": [
    {
     "data": {
      "text/plain": [
       "anio             0\n",
       "mes              0\n",
       "dia              0\n",
       "fecha            0\n",
       "franja           0\n",
       "tipo             0\n",
       "subtipo      72246\n",
       "uso_armas    80095\n",
       "barrio        1177\n",
       "comuna         660\n",
       "latitud          0\n",
       "longitud         0\n",
       "cantidad         0\n",
       "dtype: int64"
      ]
     },
     "execution_count": 26,
     "metadata": {},
     "output_type": "execute_result"
    }
   ],
   "source": [
    "df_delito.isnull().sum()"
   ]
  },
  {
   "cell_type": "markdown",
   "id": "d3a08350",
   "metadata": {},
   "source": [
    "#### Verificacion de Duplicados"
   ]
  },
  {
   "cell_type": "code",
   "execution_count": 13,
   "id": "8cbcb1ba",
   "metadata": {},
   "outputs": [
    {
     "data": {
      "text/plain": [
       "id-mapa\n",
       "LC-2021-1000090    False\n",
       "LC-2021-1000306    False\n",
       "LC-2021-1000361    False\n",
       "LC-2021-1000449    False\n",
       "LC-2021-1000572    False\n",
       "                   ...  \n",
       "RH-2021-3111653    False\n",
       "RH-2021-3111702    False\n",
       "RH-2021-3111754    False\n",
       "RH-2021-3111781    False\n",
       "RH-2021-3112295    False\n",
       "Length: 88567, dtype: bool"
      ]
     },
     "execution_count": 13,
     "metadata": {},
     "output_type": "execute_result"
    }
   ],
   "source": [
    "df_delito.duplicated()"
   ]
  },
  {
   "cell_type": "code",
   "execution_count": 27,
   "id": "0fc2d04f",
   "metadata": {},
   "outputs": [
    {
     "data": {
      "text/plain": [
       "<AxesSubplot:>"
      ]
     },
     "execution_count": 27,
     "metadata": {},
     "output_type": "execute_result"
    },
    {
     "data": {
      "image/png": "[encoded data removed]",
      "text/plain": [
       "<Figure size 1800x720 with 2 Axes>"
      ]
     },
     "metadata": {
      "needs_background": "light"
     },
     "output_type": "display_data"
    }
   ],
   "source": [
    "import missingno as msno\n",
    "msno.matrix(df_delito)"
   ]
  },
  {
   "cell_type": "markdown",
   "id": "3d7e4151",
   "metadata": {},
   "source": [
    "#### Eliminación de Columnas que tiene muchos nulos, los cuales al tener muchisima cantidad de datos no van a ser relevantes en las conclusiones, las columnas subtipo y uso_armas, presentan el mayor numero de datos nulos o no presentan, por tal motivo se procede a la eliminacion de los mismo."
   ]
  },
  {
   "cell_type": "code",
   "execution_count": 28,
   "id": "181e1a68",
   "metadata": {},
   "outputs": [],
   "source": [
    "del df_delito['subtipo']\n",
    "del df_delito['uso_armas']"
   ]
  },
  {
   "cell_type": "code",
   "execution_count": 29,
   "id": "a5329ea1",
   "metadata": {},
   "outputs": [
    {
     "data": {
      "text/html": [
       "<div>\n",
       "<style scoped>\n",
       "    .dataframe tbody tr th:only-of-type {\n",
       "        vertical-align: middle;\n",
       "    }\n",
       "\n",
       "    .dataframe tbody tr th {\n",
       "        vertical-align: top;\n",
       "    }\n",
       "\n",
       "    .dataframe thead th {\n",
       "        text-align: right;\n",
       "    }\n",
       "</style>\n",
       "<table border=\"1\" class=\"dataframe\">\n",
       "  <thead>\n",
       "    <tr style=\"text-align: right;\">\n",
       "      <th></th>\n",
       "      <th>anio</th>\n",
       "      <th>mes</th>\n",
       "      <th>dia</th>\n",
       "      <th>fecha</th>\n",
       "      <th>franja</th>\n",
       "      <th>tipo</th>\n",
       "      <th>barrio</th>\n",
       "      <th>comuna</th>\n",
       "      <th>latitud</th>\n",
       "      <th>longitud</th>\n",
       "      <th>cantidad</th>\n",
       "    </tr>\n",
       "    <tr>\n",
       "      <th>id-mapa</th>\n",
       "      <th></th>\n",
       "      <th></th>\n",
       "      <th></th>\n",
       "      <th></th>\n",
       "      <th></th>\n",
       "      <th></th>\n",
       "      <th></th>\n",
       "      <th></th>\n",
       "      <th></th>\n",
       "      <th></th>\n",
       "      <th></th>\n",
       "    </tr>\n",
       "  </thead>\n",
       "  <tbody>\n",
       "    <tr>\n",
       "      <th>LC-2021-1000090</th>\n",
       "      <td>2021</td>\n",
       "      <td>Enero</td>\n",
       "      <td>Viernes</td>\n",
       "      <td>01/01/2021</td>\n",
       "      <td>0</td>\n",
       "      <td>Lesiones</td>\n",
       "      <td>Villa Lugano</td>\n",
       "      <td>8.0</td>\n",
       "      <td>-34</td>\n",
       "      <td>672422</td>\n",
       "      <td>2</td>\n",
       "    </tr>\n",
       "    <tr>\n",
       "      <th>LC-2021-1000306</th>\n",
       "      <td>2021</td>\n",
       "      <td>Enero</td>\n",
       "      <td>Viernes</td>\n",
       "      <td>01/01/2021</td>\n",
       "      <td>7</td>\n",
       "      <td>Lesiones</td>\n",
       "      <td>NaN</td>\n",
       "      <td>0.0</td>\n",
       "      <td>20</td>\n",
       "      <td>20</td>\n",
       "      <td>1</td>\n",
       "    </tr>\n",
       "    <tr>\n",
       "      <th>LC-2021-1000361</th>\n",
       "      <td>2021</td>\n",
       "      <td>Enero</td>\n",
       "      <td>Viernes</td>\n",
       "      <td>01/01/2021</td>\n",
       "      <td>10</td>\n",
       "      <td>Lesiones</td>\n",
       "      <td>San Telmo</td>\n",
       "      <td>1.0</td>\n",
       "      <td>-34</td>\n",
       "      <td>621941</td>\n",
       "      <td>1</td>\n",
       "    </tr>\n",
       "    <tr>\n",
       "      <th>LC-2021-1000449</th>\n",
       "      <td>2021</td>\n",
       "      <td>Enero</td>\n",
       "      <td>Viernes</td>\n",
       "      <td>01/01/2021</td>\n",
       "      <td>6</td>\n",
       "      <td>Lesiones</td>\n",
       "      <td>Boca</td>\n",
       "      <td>4.0</td>\n",
       "      <td>-34</td>\n",
       "      <td>637012</td>\n",
       "      <td>1</td>\n",
       "    </tr>\n",
       "    <tr>\n",
       "      <th>LC-2021-1000572</th>\n",
       "      <td>2021</td>\n",
       "      <td>Enero</td>\n",
       "      <td>Viernes</td>\n",
       "      <td>01/01/2021</td>\n",
       "      <td>10</td>\n",
       "      <td>Lesiones</td>\n",
       "      <td>Boca</td>\n",
       "      <td>4.0</td>\n",
       "      <td>-34</td>\n",
       "      <td>637213</td>\n",
       "      <td>1</td>\n",
       "    </tr>\n",
       "  </tbody>\n",
       "</table>\n",
       "</div>"
      ],
      "text/plain": [
       "                 anio    mes      dia       fecha  franja      tipo  \\\n",
       "id-mapa                                                               \n",
       "LC-2021-1000090  2021  Enero  Viernes  01/01/2021       0  Lesiones   \n",
       "LC-2021-1000306  2021  Enero  Viernes  01/01/2021       7  Lesiones   \n",
       "LC-2021-1000361  2021  Enero  Viernes  01/01/2021      10  Lesiones   \n",
       "LC-2021-1000449  2021  Enero  Viernes  01/01/2021       6  Lesiones   \n",
       "LC-2021-1000572  2021  Enero  Viernes  01/01/2021      10  Lesiones   \n",
       "\n",
       "                       barrio  comuna  latitud  longitud  cantidad  \n",
       "id-mapa                                                             \n",
       "LC-2021-1000090  Villa Lugano     8.0      -34    672422         2  \n",
       "LC-2021-1000306           NaN     0.0       20        20         1  \n",
       "LC-2021-1000361     San Telmo     1.0      -34    621941         1  \n",
       "LC-2021-1000449          Boca     4.0      -34    637012         1  \n",
       "LC-2021-1000572          Boca     4.0      -34    637213         1  "
      ]
     },
     "execution_count": 29,
     "metadata": {},
     "output_type": "execute_result"
    }
   ],
   "source": [
    "df_delito.head()"
   ]
  },
  {
   "cell_type": "markdown",
   "id": "ae146cbf",
   "metadata": {},
   "source": [
    "#### Definir la Columna Date y Confirmar que sean todos los datos del 2021"
   ]
  },
  {
   "cell_type": "code",
   "execution_count": 30,
   "id": "2c072423",
   "metadata": {},
   "outputs": [
    {
     "data": {
      "text/plain": [
       "array([2021], dtype=int64)"
      ]
     },
     "execution_count": 30,
     "metadata": {},
     "output_type": "execute_result"
    }
   ],
   "source": [
    "df_delito.anio.unique()"
   ]
  },
  {
   "cell_type": "markdown",
   "id": "d96fbda9",
   "metadata": {},
   "source": [
    "#### Separamos los datos por dia y mes, para poder realizar un analisis mas preciso sobre los dias de la semana y los meses donde se presenten mas altos delitos"
   ]
  },
  {
   "cell_type": "code",
   "execution_count": 42,
   "id": "5554385f",
   "metadata": {},
   "outputs": [],
   "source": [
    "dias_columna = pd.to_datetime(df_delito['fecha'], format = '%d/%m/%Y')"
   ]
  },
  {
   "cell_type": "code",
   "execution_count": 43,
   "id": "ad44f590",
   "metadata": {},
   "outputs": [],
   "source": [
    "df_delito['dias'] = dias_columna.dt.day\n",
    "df_delito['mes'] = dias_columna.dt.month"
   ]
  },
  {
   "cell_type": "code",
   "execution_count": 44,
   "id": "d1dabfce",
   "metadata": {},
   "outputs": [
    {
     "data": {
      "text/html": [
       "<div>\n",
       "<style scoped>\n",
       "    .dataframe tbody tr th:only-of-type {\n",
       "        vertical-align: middle;\n",
       "    }\n",
       "\n",
       "    .dataframe tbody tr th {\n",
       "        vertical-align: top;\n",
       "    }\n",
       "\n",
       "    .dataframe thead th {\n",
       "        text-align: right;\n",
       "    }\n",
       "</style>\n",
       "<table border=\"1\" class=\"dataframe\">\n",
       "  <thead>\n",
       "    <tr style=\"text-align: right;\">\n",
       "      <th></th>\n",
       "      <th>anio</th>\n",
       "      <th>mes</th>\n",
       "      <th>dia</th>\n",
       "      <th>fecha</th>\n",
       "      <th>franja</th>\n",
       "      <th>tipo</th>\n",
       "      <th>barrio</th>\n",
       "      <th>comuna</th>\n",
       "      <th>latitud</th>\n",
       "      <th>longitud</th>\n",
       "      <th>cantidad</th>\n",
       "      <th>dias</th>\n",
       "    </tr>\n",
       "    <tr>\n",
       "      <th>id-mapa</th>\n",
       "      <th></th>\n",
       "      <th></th>\n",
       "      <th></th>\n",
       "      <th></th>\n",
       "      <th></th>\n",
       "      <th></th>\n",
       "      <th></th>\n",
       "      <th></th>\n",
       "      <th></th>\n",
       "      <th></th>\n",
       "      <th></th>\n",
       "      <th></th>\n",
       "    </tr>\n",
       "  </thead>\n",
       "  <tbody>\n",
       "    <tr>\n",
       "      <th>LC-2021-1000090</th>\n",
       "      <td>2021</td>\n",
       "      <td>1</td>\n",
       "      <td>Viernes</td>\n",
       "      <td>01/01/2021</td>\n",
       "      <td>0</td>\n",
       "      <td>Lesiones</td>\n",
       "      <td>Villa Lugano</td>\n",
       "      <td>8.0</td>\n",
       "      <td>-34</td>\n",
       "      <td>672422</td>\n",
       "      <td>2</td>\n",
       "      <td>1</td>\n",
       "    </tr>\n",
       "    <tr>\n",
       "      <th>LC-2021-1000361</th>\n",
       "      <td>2021</td>\n",
       "      <td>1</td>\n",
       "      <td>Viernes</td>\n",
       "      <td>01/01/2021</td>\n",
       "      <td>10</td>\n",
       "      <td>Lesiones</td>\n",
       "      <td>San Telmo</td>\n",
       "      <td>1.0</td>\n",
       "      <td>-34</td>\n",
       "      <td>621941</td>\n",
       "      <td>1</td>\n",
       "      <td>1</td>\n",
       "    </tr>\n",
       "    <tr>\n",
       "      <th>LC-2021-1000449</th>\n",
       "      <td>2021</td>\n",
       "      <td>1</td>\n",
       "      <td>Viernes</td>\n",
       "      <td>01/01/2021</td>\n",
       "      <td>6</td>\n",
       "      <td>Lesiones</td>\n",
       "      <td>Boca</td>\n",
       "      <td>4.0</td>\n",
       "      <td>-34</td>\n",
       "      <td>637012</td>\n",
       "      <td>1</td>\n",
       "      <td>1</td>\n",
       "    </tr>\n",
       "    <tr>\n",
       "      <th>LC-2021-1000572</th>\n",
       "      <td>2021</td>\n",
       "      <td>1</td>\n",
       "      <td>Viernes</td>\n",
       "      <td>01/01/2021</td>\n",
       "      <td>10</td>\n",
       "      <td>Lesiones</td>\n",
       "      <td>Boca</td>\n",
       "      <td>4.0</td>\n",
       "      <td>-34</td>\n",
       "      <td>637213</td>\n",
       "      <td>1</td>\n",
       "      <td>1</td>\n",
       "    </tr>\n",
       "    <tr>\n",
       "      <th>LC-2021-1000613</th>\n",
       "      <td>2021</td>\n",
       "      <td>1</td>\n",
       "      <td>Viernes</td>\n",
       "      <td>01/01/2021</td>\n",
       "      <td>16</td>\n",
       "      <td>Lesiones</td>\n",
       "      <td>Floresta</td>\n",
       "      <td>10.0</td>\n",
       "      <td>-34</td>\n",
       "      <td>63001</td>\n",
       "      <td>2</td>\n",
       "      <td>1</td>\n",
       "    </tr>\n",
       "  </tbody>\n",
       "</table>\n",
       "</div>"
      ],
      "text/plain": [
       "                 anio  mes      dia       fecha  franja      tipo  \\\n",
       "id-mapa                                                             \n",
       "LC-2021-1000090  2021    1  Viernes  01/01/2021       0  Lesiones   \n",
       "LC-2021-1000361  2021    1  Viernes  01/01/2021      10  Lesiones   \n",
       "LC-2021-1000449  2021    1  Viernes  01/01/2021       6  Lesiones   \n",
       "LC-2021-1000572  2021    1  Viernes  01/01/2021      10  Lesiones   \n",
       "LC-2021-1000613  2021    1  Viernes  01/01/2021      16  Lesiones   \n",
       "\n",
       "                       barrio  comuna  latitud  longitud  cantidad  dias  \n",
       "id-mapa                                                                   \n",
       "LC-2021-1000090  Villa Lugano     8.0      -34    672422         2     1  \n",
       "LC-2021-1000361     San Telmo     1.0      -34    621941         1     1  \n",
       "LC-2021-1000449          Boca     4.0      -34    637012         1     1  \n",
       "LC-2021-1000572          Boca     4.0      -34    637213         1     1  \n",
       "LC-2021-1000613      Floresta    10.0      -34     63001         2     1  "
      ]
     },
     "execution_count": 44,
     "metadata": {},
     "output_type": "execute_result"
    }
   ],
   "source": [
    "df_delito.head()"
   ]
  },
  {
   "cell_type": "code",
   "execution_count": 31,
   "id": "f5a1608d",
   "metadata": {},
   "outputs": [
    {
     "data": {
      "text/plain": [
       "anio           0\n",
       "mes            0\n",
       "dia            0\n",
       "fecha          0\n",
       "franja         0\n",
       "tipo           0\n",
       "barrio      1177\n",
       "comuna       660\n",
       "latitud        0\n",
       "longitud       0\n",
       "cantidad       0\n",
       "dtype: int64"
      ]
     },
     "execution_count": 31,
     "metadata": {},
     "output_type": "execute_result"
    }
   ],
   "source": [
    "df_delito.isnull().sum()"
   ]
  },
  {
   "cell_type": "markdown",
   "id": "0643490b",
   "metadata": {},
   "source": [
    "#### Eliminacion de valores Faltantes"
   ]
  },
  {
   "cell_type": "code",
   "execution_count": 32,
   "id": "e1e2c68a",
   "metadata": {},
   "outputs": [],
   "source": [
    "df_delito.dropna(how = 'any', inplace =  True)"
   ]
  },
  {
   "cell_type": "code",
   "execution_count": 50,
   "id": "220d74a4",
   "metadata": {},
   "outputs": [
    {
     "data": {
      "text/plain": [
       "anio        0\n",
       "mes         0\n",
       "dia         0\n",
       "fecha       0\n",
       "franja      0\n",
       "tipo        0\n",
       "barrio      0\n",
       "comuna      0\n",
       "latitud     0\n",
       "longitud    0\n",
       "cantidad    0\n",
       "dias        0\n",
       "dtype: int64"
      ]
     },
     "execution_count": 50,
     "metadata": {},
     "output_type": "execute_result"
    }
   ],
   "source": [
    "df_delito.isnull().sum()"
   ]
  },
  {
   "cell_type": "code",
   "execution_count": 33,
   "id": "a2bb4327",
   "metadata": {},
   "outputs": [
    {
     "data": {
      "text/plain": [
       "anio        0\n",
       "mes         0\n",
       "dia         0\n",
       "fecha       0\n",
       "franja      0\n",
       "tipo        0\n",
       "barrio      0\n",
       "comuna      0\n",
       "latitud     0\n",
       "longitud    0\n",
       "cantidad    0\n",
       "dtype: int64"
      ]
     },
     "execution_count": 33,
     "metadata": {},
     "output_type": "execute_result"
    }
   ],
   "source": []
  },
  {
   "cell_type": "markdown",
   "id": "af193ada",
   "metadata": {},
   "source": [
    "## **Analisis de los datos**"
   ]
  },
  {
   "cell_type": "markdown",
   "id": "bcc168f3",
   "metadata": {},
   "source": [
    " ## Introducción"
   ]
  },
  {
   "cell_type": "markdown",
   "id": "4607929d",
   "metadata": {},
   "source": [
    "### Contexto Empresarial\n",
    "La ciudad Autonoma de Buenos Aires, tiene un incremento de delitos en la ciudad. El dataset cuenta con datos sobre ubicacion, fecha, año, ademas de tener tipo de delito, si se uso armas o tiene implicado algun elemento en el mismo. "
   ]
  },
  {
   "cell_type": "markdown",
   "id": "44ab2302",
   "metadata": {},
   "source": [
    "### Problemas comerciales\n",
    "Crear visualizaciones que proporcion datos que sirvan para relevar las zonas donde se originan mas delitos, y asi tomar acciones de seguridad policial."
   ]
  },
  {
   "cell_type": "markdown",
   "id": "78f0d8bc",
   "metadata": {},
   "source": [
    "### Contexto Analitico"
   ]
  },
  {
   "cell_type": "markdown",
   "id": "bb2645a2",
   "metadata": {},
   "source": [
    "Desde un archivo csv, que contiene detalles sobre delitos realizados en la ciudad de buenos aires, con fecha y franja horario,  ubicacion geografica del delito, tipo de delito, si se utilizaron armas o algun elemento contudente para realizar el robo. \n",
    "\n",
    "1-. Cantidad de Robos Mensuales\n",
    "2-. Cantidad de Robos por Franja Horaria"
   ]
  },
  {
   "cell_type": "markdown",
   "id": "accb5d01",
   "metadata": {},
   "source": [
    "Se muestran las siguientes Columnas:\n",
    "\n",
    "1. - id-mapa = Es el id de la ubicacion en el mapa de ciudad.\n",
    "2. - anio = Es el año del delito.\n",
    "3. - mes = Es el mes del delito.\n",
    "4. - dia = Del delito.\n",
    "5. - fecha = Es la fecha completa del delito.\n",
    "6. - franja = Es la franja horaria donde se realizo el delito.\n",
    "7. - tipo = Caracteristicas del delito (homicidio, lesiones, robo o hurto).\n",
    "8. - subtipo = Donde se origino el delito (sinietro vial, etc).\n",
    "9. - uso_armas = Si hubo uso de algun elemento en el delito (armas, cuchillos, etc).\n",
    "10. - barrio = Lugar donde ocurrio el delito.\n",
    "11. - comuna = Comuna donde ocurrio el delito.\n",
    "12. - latitud = Ubicación por coordenas de donde fue el delito.\n",
    "13. - cantidad = Cantidad de delitos (generalmente es uno, pero puede ser que se hicieron varios en el mismo lugar)."
   ]
  },
  {
   "cell_type": "code",
   "execution_count": 49,
   "id": "ab4d2c5f",
   "metadata": {},
   "outputs": [
    {
     "data": {
      "text/html": [
       "<div>\n",
       "<style scoped>\n",
       "    .dataframe tbody tr th:only-of-type {\n",
       "        vertical-align: middle;\n",
       "    }\n",
       "\n",
       "    .dataframe tbody tr th {\n",
       "        vertical-align: top;\n",
       "    }\n",
       "\n",
       "    .dataframe thead th {\n",
       "        text-align: right;\n",
       "    }\n",
       "</style>\n",
       "<table border=\"1\" class=\"dataframe\">\n",
       "  <thead>\n",
       "    <tr style=\"text-align: right;\">\n",
       "      <th></th>\n",
       "      <th>anio</th>\n",
       "      <th>mes</th>\n",
       "      <th>franja</th>\n",
       "      <th>comuna</th>\n",
       "      <th>latitud</th>\n",
       "      <th>longitud</th>\n",
       "      <th>cantidad</th>\n",
       "      <th>dias</th>\n",
       "    </tr>\n",
       "  </thead>\n",
       "  <tbody>\n",
       "    <tr>\n",
       "      <th>count</th>\n",
       "      <td>87390.0</td>\n",
       "      <td>87390.000000</td>\n",
       "      <td>87390.000000</td>\n",
       "      <td>87390.000000</td>\n",
       "      <td>87390.0</td>\n",
       "      <td>8.739000e+04</td>\n",
       "      <td>87390.000000</td>\n",
       "      <td>87390.000000</td>\n",
       "    </tr>\n",
       "    <tr>\n",
       "      <th>mean</th>\n",
       "      <td>2021.0</td>\n",
       "      <td>6.712953</td>\n",
       "      <td>13.223378</td>\n",
       "      <td>7.583499</td>\n",
       "      <td>-34.0</td>\n",
       "      <td>6.422321e+05</td>\n",
       "      <td>1.184140</td>\n",
       "      <td>15.595423</td>\n",
       "    </tr>\n",
       "    <tr>\n",
       "      <th>std</th>\n",
       "      <td>0.0</td>\n",
       "      <td>3.528773</td>\n",
       "      <td>6.101975</td>\n",
       "      <td>4.530570</td>\n",
       "      <td>0.0</td>\n",
       "      <td>2.263241e+06</td>\n",
       "      <td>0.667158</td>\n",
       "      <td>8.773102</td>\n",
       "    </tr>\n",
       "    <tr>\n",
       "      <th>min</th>\n",
       "      <td>2021.0</td>\n",
       "      <td>1.000000</td>\n",
       "      <td>0.000000</td>\n",
       "      <td>1.000000</td>\n",
       "      <td>-34.0</td>\n",
       "      <td>6.000000e+00</td>\n",
       "      <td>1.000000</td>\n",
       "      <td>1.000000</td>\n",
       "    </tr>\n",
       "    <tr>\n",
       "      <th>25%</th>\n",
       "      <td>2021.0</td>\n",
       "      <td>3.000000</td>\n",
       "      <td>9.000000</td>\n",
       "      <td>4.000000</td>\n",
       "      <td>-34.0</td>\n",
       "      <td>5.828970e+05</td>\n",
       "      <td>1.000000</td>\n",
       "      <td>8.000000</td>\n",
       "    </tr>\n",
       "    <tr>\n",
       "      <th>50%</th>\n",
       "      <td>2021.0</td>\n",
       "      <td>7.000000</td>\n",
       "      <td>14.000000</td>\n",
       "      <td>7.000000</td>\n",
       "      <td>-34.0</td>\n",
       "      <td>6.084905e+05</td>\n",
       "      <td>1.000000</td>\n",
       "      <td>16.000000</td>\n",
       "    </tr>\n",
       "    <tr>\n",
       "      <th>75%</th>\n",
       "      <td>2021.0</td>\n",
       "      <td>10.000000</td>\n",
       "      <td>18.000000</td>\n",
       "      <td>12.000000</td>\n",
       "      <td>-34.0</td>\n",
       "      <td>6.312952e+05</td>\n",
       "      <td>1.000000</td>\n",
       "      <td>23.000000</td>\n",
       "    </tr>\n",
       "    <tr>\n",
       "      <th>max</th>\n",
       "      <td>2021.0</td>\n",
       "      <td>12.000000</td>\n",
       "      <td>23.000000</td>\n",
       "      <td>15.000000</td>\n",
       "      <td>-34.0</td>\n",
       "      <td>6.905031e+07</td>\n",
       "      <td>10.000000</td>\n",
       "      <td>31.000000</td>\n",
       "    </tr>\n",
       "  </tbody>\n",
       "</table>\n",
       "</div>"
      ],
      "text/plain": [
       "          anio           mes        franja        comuna  latitud  \\\n",
       "count  87390.0  87390.000000  87390.000000  87390.000000  87390.0   \n",
       "mean    2021.0      6.712953     13.223378      7.583499    -34.0   \n",
       "std        0.0      3.528773      6.101975      4.530570      0.0   \n",
       "min     2021.0      1.000000      0.000000      1.000000    -34.0   \n",
       "25%     2021.0      3.000000      9.000000      4.000000    -34.0   \n",
       "50%     2021.0      7.000000     14.000000      7.000000    -34.0   \n",
       "75%     2021.0     10.000000     18.000000     12.000000    -34.0   \n",
       "max     2021.0     12.000000     23.000000     15.000000    -34.0   \n",
       "\n",
       "           longitud      cantidad          dias  \n",
       "count  8.739000e+04  87390.000000  87390.000000  \n",
       "mean   6.422321e+05      1.184140     15.595423  \n",
       "std    2.263241e+06      0.667158      8.773102  \n",
       "min    6.000000e+00      1.000000      1.000000  \n",
       "25%    5.828970e+05      1.000000      8.000000  \n",
       "50%    6.084905e+05      1.000000     16.000000  \n",
       "75%    6.312952e+05      1.000000     23.000000  \n",
       "max    6.905031e+07     10.000000     31.000000  "
      ]
     },
     "execution_count": 49,
     "metadata": {},
     "output_type": "execute_result"
    }
   ],
   "source": [
    "df_delito.describe()"
   ]
  },
  {
   "cell_type": "markdown",
   "id": "8babc247",
   "metadata": {},
   "source": [
    "#### Por los datos se podria decir queel 50 % de los delitos se cometen entre las 09.00 horas y las 19.00 hs."
   ]
  },
  {
   "cell_type": "markdown",
   "id": "49601a61",
   "metadata": {},
   "source": [
    "### Horarios de Delitos"
   ]
  },
  {
   "cell_type": "code",
   "execution_count": 130,
   "id": "1311c889",
   "metadata": {},
   "outputs": [
    {
     "data": {
      "text/plain": [
       "Text(0, 0.5, 'Cantidad de Delitos')"
      ]
     },
     "execution_count": 130,
     "metadata": {},
     "output_type": "execute_result"
    },
    {
     "data": {
      "image/png": "[encoded data removed]",
      "text/plain": [
       "<Figure size 432x288 with 1 Axes>"
      ]
     },
     "metadata": {
      "needs_background": "light"
     },
     "output_type": "display_data"
    }
   ],
   "source": [
    "df_delito3 = df_delito.groupby('franja').size()\n",
    "df_delito3.index\n",
    "df_delito3.values\n",
    "sns.barplot(x=df_delito3.index, y=df_delito3.values)\n",
    "plt.title('Delitos por Franja Horaria')\n",
    "plt.xlabel('Hora')\n",
    "plt.ylabel('Cantidad de Delitos')"
   ]
  },
  {
   "cell_type": "markdown",
   "id": "2307ee5d",
   "metadata": {},
   "source": [
    "### Delitos por Día de la Semana"
   ]
  },
  {
   "cell_type": "code",
   "execution_count": 67,
   "id": "18a052af",
   "metadata": {},
   "outputs": [
    {
     "data": {
      "text/plain": [
       "(array([0, 1, 2, 3, 4, 5, 6]),\n",
       " [Text(0, 0, 'Domingo'),\n",
       "  Text(1, 0, 'Jueves'),\n",
       "  Text(2, 0, 'Martes'),\n",
       "  Text(3, 0, 'Miercoles'),\n",
       "  Text(4, 0, 'Sabado'),\n",
       "  Text(5, 0, 'Viernes'),\n",
       "  Text(6, 0, 'Lunes')])"
      ]
     },
     "execution_count": 67,
     "metadata": {},
     "output_type": "execute_result"
    },
    {
     "data": {
      "image/png": "[encoded data removed]",
      "text/plain": [
       "<Figure size 432x288 with 1 Axes>"
      ]
     },
     "metadata": {
      "needs_background": "light"
     },
     "output_type": "display_data"
    }
   ],
   "source": [
    "plt.subplots()\n",
    "group = df_delito.groupby(by = 'dia').agg({'franja' : 'median'}).sort_values(by = 'franja', ascending = False)\n",
    "order = group.index\n",
    "sns.boxplot(data = df_delito, x = 'dia', y = 'franja', order = order)\n",
    "plt.xticks(rotation = 90)"
   ]
  },
  {
   "cell_type": "markdown",
   "id": "86541b7c",
   "metadata": {},
   "source": [
    "##### Los casos de delitos ocurren mayormente los dias viernes, sabados y domingos donde se registran la mayor cantidad de casos."
   ]
  },
  {
   "cell_type": "markdown",
   "id": "bd8fd9d8",
   "metadata": {},
   "source": [
    "### Cantidad de Delitos Mensuales"
   ]
  },
  {
   "cell_type": "code",
   "execution_count": 79,
   "id": "b78570f3",
   "metadata": {},
   "outputs": [
    {
     "data": {
      "text/plain": [
       "Text(0, 0.5, 'Cantidad de Delitos')"
      ]
     },
     "execution_count": 79,
     "metadata": {},
     "output_type": "execute_result"
    },
    {
     "data": {
      "image/png": "[encoded data removed]",
      "text/plain": [
       "<Figure size 432x288 with 1 Axes>"
      ]
     },
     "metadata": {
      "needs_background": "light"
     },
     "output_type": "display_data"
    }
   ],
   "source": [
    "df_delito3 = df_delito.groupby('mes').size()\n",
    "df_delito3.index\n",
    "df_delito3.values\n",
    "sns.barplot(x=df_delito3.index, y=df_delito3.values)\n",
    "plt.title('Delitos Mensuales')\n",
    "plt.xlabel('Meses')\n",
    "plt.ylabel('Cantidad de Delitos')"
   ]
  },
  {
   "cell_type": "markdown",
   "id": "98399f28",
   "metadata": {},
   "source": [
    "#### Los meses donde se detecta mas cantidad de delitos son los meses de Marzo, Noviembre y Diciembre."
   ]
  },
  {
   "cell_type": "markdown",
   "id": "0921cfd0",
   "metadata": {},
   "source": [
    "### Analisis de Delitos por Barrios"
   ]
  },
  {
   "cell_type": "code",
   "execution_count": 149,
   "id": "abfc2d75",
   "metadata": {},
   "outputs": [
    {
     "data": {
      "text/plain": [
       "(array([ 0,  1,  2,  3,  4,  5,  6,  7,  8,  9, 10, 11, 12, 13, 14, 15, 16,\n",
       "        17, 18, 19, 20, 21, 22, 23, 24, 25, 26, 27, 28, 29, 30, 31, 32, 33,\n",
       "        34, 35, 36, 37, 38, 39, 40, 41, 42, 43, 44, 45, 46, 47, 48]),\n",
       " [Text(0, 0, 'Agronomía'),\n",
       "  Text(1, 0, 'Almagro'),\n",
       "  Text(2, 0, 'Balvanera'),\n",
       "  Text(3, 0, 'Barracas'),\n",
       "  Text(4, 0, 'Belgrano'),\n",
       "  Text(5, 0, 'Boca'),\n",
       "  Text(6, 0, 'Boedo'),\n",
       "  Text(7, 0, 'Caballito'),\n",
       "  Text(8, 0, 'Chacarita'),\n",
       "  Text(9, 0, 'Coghlan'),\n",
       "  Text(10, 0, 'Colegiales'),\n",
       "  Text(11, 0, 'Constitución'),\n",
       "  Text(12, 0, 'Flores'),\n",
       "  Text(13, 0, 'Floresta'),\n",
       "  Text(14, 0, 'Liniers'),\n",
       "  Text(15, 0, 'Mataderos'),\n",
       "  Text(16, 0, 'Monserrat'),\n",
       "  Text(17, 0, 'Monte Castro'),\n",
       "  Text(18, 0, 'Nueva Pompeya'),\n",
       "  Text(19, 0, 'Nueva pompeya'),\n",
       "  Text(20, 0, 'Nuñez'),\n",
       "  Text(21, 0, 'Palermo'),\n",
       "  Text(22, 0, 'Parque Avellaneda'),\n",
       "  Text(23, 0, 'Parque Chacabuco'),\n",
       "  Text(24, 0, 'Parque Chas'),\n",
       "  Text(25, 0, 'Parque Patricios'),\n",
       "  Text(26, 0, 'Paternal'),\n",
       "  Text(27, 0, 'Puerto Madero'),\n",
       "  Text(28, 0, 'Recoleta'),\n",
       "  Text(29, 0, 'Retiro'),\n",
       "  Text(30, 0, 'Saavedra'),\n",
       "  Text(31, 0, 'San Cristóbal'),\n",
       "  Text(32, 0, 'San Nicolás'),\n",
       "  Text(33, 0, 'San Telmo'),\n",
       "  Text(34, 0, 'Versalles'),\n",
       "  Text(35, 0, 'Villa Crespo'),\n",
       "  Text(36, 0, 'Villa Del Parque'),\n",
       "  Text(37, 0, 'Villa Devoto'),\n",
       "  Text(38, 0, 'Villa Gral. Mitre'),\n",
       "  Text(39, 0, 'Villa Lugano'),\n",
       "  Text(40, 0, 'Villa Luro'),\n",
       "  Text(41, 0, 'Villa Ortuzar'),\n",
       "  Text(42, 0, 'Villa Pueyrredón'),\n",
       "  Text(43, 0, 'Villa Real'),\n",
       "  Text(44, 0, 'Villa Riachuelo'),\n",
       "  Text(45, 0, 'Villa Santa Rita'),\n",
       "  Text(46, 0, 'Villa Soldati'),\n",
       "  Text(47, 0, 'Villa Urquiza'),\n",
       "  Text(48, 0, 'Vélez Sársfield')])"
      ]
     },
     "execution_count": 149,
     "metadata": {},
     "output_type": "execute_result"
    },
    {
     "data": {
      "image/png": "[encoded data removed]",
      "text/plain": [
       "<Figure size 3600x1440 with 1 Axes>"
      ]
     },
     "metadata": {
      "needs_background": "light"
     },
     "output_type": "display_data"
    }
   ],
   "source": [
    "df_delito3 = df_delito.groupby('barrio').size()\n",
    "df_delito3.index\n",
    "df_delito3.values\n",
    "fig = plt.figure(figsize = (50, 20))\n",
    "sns.barplot(x=df_delito3.index, y=df_delito3.values, capsize=4)\n",
    "plt.title('Delitos Totales')\n",
    "plt.xlabel('Barrios')\n",
    "plt.ylabel('Cantidad de Delitos')\n",
    "plt.xticks(rotation=90)\n"
   ]
  },
  {
   "cell_type": "markdown",
   "id": "358ba28c",
   "metadata": {},
   "source": [
    "#### El barrio que mas delitos registra es el barrio de Palermo y Balmacera"
   ]
  },
  {
   "cell_type": "markdown",
   "id": "fd6b843f",
   "metadata": {},
   "source": [
    "### Caracteristica de los Delitos"
   ]
  },
  {
   "cell_type": "code",
   "execution_count": 137,
   "id": "7bda5dba",
   "metadata": {},
   "outputs": [
    {
     "data": {
      "text/plain": [
       "(array([0, 1, 2, 3]),\n",
       " [Text(0, 0, 'Homicidio'),\n",
       "  Text(1, 0, 'Hurto (sin violencia)'),\n",
       "  Text(2, 0, 'Lesiones'),\n",
       "  Text(3, 0, 'Robo (con violencia)')])"
      ]
     },
     "execution_count": 137,
     "metadata": {},
     "output_type": "execute_result"
    },
    {
     "data": {
      "image/png": "[encoded data removed]",
      "text/plain": [
       "<Figure size 432x288 with 1 Axes>"
      ]
     },
     "metadata": {
      "needs_background": "light"
     },
     "output_type": "display_data"
    }
   ],
   "source": [
    "df_delito3 = df_delito.groupby('tipo').size()\n",
    "df_delito3.index\n",
    "df_delito3.values\n",
    "sns.barplot(x=df_delito3.index, y=df_delito3.values)\n",
    "plt.title('Tipos de Delitos')\n",
    "plt.xlabel('Caracteristica de Robos')\n",
    "plt.ylabel('Cantidad de Delitos')\n",
    "plt.xticks(rotation=90)"
   ]
  },
  {
   "cell_type": "markdown",
   "id": "ec9310d5",
   "metadata": {},
   "source": [
    "#### La mayoria de los echos delitos son ocasionados por robos con violencia, y le siguen los de hurto sin violencia. Muy poco porcentaje son los que en ocacion de robo, sigue de homicidio."
   ]
  },
  {
   "cell_type": "markdown",
   "id": "112417ff",
   "metadata": {},
   "source": [
    "### Agrupacion de los datos"
   ]
  },
  {
   "cell_type": "markdown",
   "id": "44db9d4b",
   "metadata": {},
   "source": [
    "#### Creacion de Variables Ficticias, ya que contamos con datos categoricos de variables independientes (con las variables ficticias limitamos a valor especificos de 0 y 1)"
   ]
  },
  {
   "cell_type": "code",
   "execution_count": 75,
   "id": "52896bf4",
   "metadata": {},
   "outputs": [
    {
     "data": {
      "text/html": [
       "<div>\n",
       "<style scoped>\n",
       "    .dataframe tbody tr th:only-of-type {\n",
       "        vertical-align: middle;\n",
       "    }\n",
       "\n",
       "    .dataframe tbody tr th {\n",
       "        vertical-align: top;\n",
       "    }\n",
       "\n",
       "    .dataframe thead th {\n",
       "        text-align: right;\n",
       "    }\n",
       "</style>\n",
       "<table border=\"1\" class=\"dataframe\">\n",
       "  <thead>\n",
       "    <tr style=\"text-align: right;\">\n",
       "      <th></th>\n",
       "      <th>tipo_Hurto (sin violencia)</th>\n",
       "      <th>tipo_Lesiones</th>\n",
       "      <th>tipo_Robo (con violencia)</th>\n",
       "    </tr>\n",
       "    <tr>\n",
       "      <th>id-mapa</th>\n",
       "      <th></th>\n",
       "      <th></th>\n",
       "      <th></th>\n",
       "    </tr>\n",
       "  </thead>\n",
       "  <tbody>\n",
       "    <tr>\n",
       "      <th>LC-2021-1000090</th>\n",
       "      <td>0</td>\n",
       "      <td>1</td>\n",
       "      <td>0</td>\n",
       "    </tr>\n",
       "    <tr>\n",
       "      <th>LC-2021-1000361</th>\n",
       "      <td>0</td>\n",
       "      <td>1</td>\n",
       "      <td>0</td>\n",
       "    </tr>\n",
       "    <tr>\n",
       "      <th>LC-2021-1000449</th>\n",
       "      <td>0</td>\n",
       "      <td>1</td>\n",
       "      <td>0</td>\n",
       "    </tr>\n",
       "    <tr>\n",
       "      <th>LC-2021-1000572</th>\n",
       "      <td>0</td>\n",
       "      <td>1</td>\n",
       "      <td>0</td>\n",
       "    </tr>\n",
       "    <tr>\n",
       "      <th>LC-2021-1000613</th>\n",
       "      <td>0</td>\n",
       "      <td>1</td>\n",
       "      <td>0</td>\n",
       "    </tr>\n",
       "  </tbody>\n",
       "</table>\n",
       "</div>"
      ],
      "text/plain": [
       "                 tipo_Hurto (sin violencia)  tipo_Lesiones  \\\n",
       "id-mapa                                                      \n",
       "LC-2021-1000090                           0              1   \n",
       "LC-2021-1000361                           0              1   \n",
       "LC-2021-1000449                           0              1   \n",
       "LC-2021-1000572                           0              1   \n",
       "LC-2021-1000613                           0              1   \n",
       "\n",
       "                 tipo_Robo (con violencia)  \n",
       "id-mapa                                     \n",
       "LC-2021-1000090                          0  \n",
       "LC-2021-1000361                          0  \n",
       "LC-2021-1000449                          0  \n",
       "LC-2021-1000572                          0  \n",
       "LC-2021-1000613                          0  "
      ]
     },
     "execution_count": 75,
     "metadata": {},
     "output_type": "execute_result"
    }
   ],
   "source": [
    "X = delito[['tipo']]\n",
    "X = pd.get_dummies(data=X, drop_first=True) \n",
    "X.head()"
   ]
  },
  {
   "cell_type": "code",
   "execution_count": 77,
   "id": "8317f47f",
   "metadata": {},
   "outputs": [],
   "source": [
    "Y = delito['cantidad']"
   ]
  },
  {
   "cell_type": "markdown",
   "id": "e7cc3310",
   "metadata": {},
   "source": [
    "#### Creacion de un conjunto de Datos de entrenemiento y prueba (Dividir)"
   ]
  },
  {
   "cell_type": "code",
   "execution_count": 78,
   "id": "434c9081",
   "metadata": {},
   "outputs": [
    {
     "name": "stdout",
     "output_type": "stream",
     "text": [
      "(61173, 3)\n",
      "(26217, 3)\n",
      "(61173,)\n",
      "(26217,)\n"
     ]
    }
   ],
   "source": [
    "from sklearn.model_selection import train_test_split\n",
    "### test de entrenamiento de 70/30\n",
    "X_train, X_test, y_train, y_test = train_test_split(X, Y, test_size=0.3, random_state=1)\n",
    "print(X_train.shape)\n",
    "print(X_test.shape)\n",
    "print(y_train.shape)\n",
    "print(y_test.shape)"
   ]
  },
  {
   "cell_type": "markdown",
   "id": "4f0874eb",
   "metadata": {},
   "source": [
    "#### Metrica del Algoritmo de Regresion"
   ]
  },
  {
   "cell_type": "code",
   "execution_count": 34,
   "id": "4f45bcfd",
   "metadata": {},
   "outputs": [
    {
     "name": "stdout",
     "output_type": "stream",
     "text": [
      "1.0310077519379957\n"
     ]
    }
   ],
   "source": [
    "from sklearn.linear_model import LinearRegression\n",
    "### Creacion del modelo\n",
    "model = LinearRegression()\n",
    "### Ajuste del Modelo\n",
    "model.fit(X_train,y_train)\n",
    "print(model.intercept_)"
   ]
  },
  {
   "cell_type": "markdown",
   "id": "df94e41e",
   "metadata": {},
   "source": [
    "#### Coeficiente de Variables"
   ]
  },
  {
   "cell_type": "code",
   "execution_count": 35,
   "id": "af09599d",
   "metadata": {},
   "outputs": [
    {
     "data": {
      "text/html": [
       "<div>\n",
       "<style scoped>\n",
       "    .dataframe tbody tr th:only-of-type {\n",
       "        vertical-align: middle;\n",
       "    }\n",
       "\n",
       "    .dataframe tbody tr th {\n",
       "        vertical-align: top;\n",
       "    }\n",
       "\n",
       "    .dataframe thead th {\n",
       "        text-align: right;\n",
       "    }\n",
       "</style>\n",
       "<table border=\"1\" class=\"dataframe\">\n",
       "  <thead>\n",
       "    <tr style=\"text-align: right;\">\n",
       "      <th></th>\n",
       "      <th>Coefficient</th>\n",
       "    </tr>\n",
       "  </thead>\n",
       "  <tbody>\n",
       "    <tr>\n",
       "      <th>tipo_Hurto (sin violencia)</th>\n",
       "      <td>0.160572</td>\n",
       "    </tr>\n",
       "    <tr>\n",
       "      <th>tipo_Lesiones</th>\n",
       "      <td>0.130418</td>\n",
       "    </tr>\n",
       "    <tr>\n",
       "      <th>tipo_Robo (con violencia)</th>\n",
       "      <td>0.153412</td>\n",
       "    </tr>\n",
       "  </tbody>\n",
       "</table>\n",
       "</div>"
      ],
      "text/plain": [
       "                            Coefficient\n",
       "tipo_Hurto (sin violencia)     0.160572\n",
       "tipo_Lesiones                  0.130418\n",
       "tipo_Robo (con violencia)      0.153412"
      ]
     },
     "execution_count": 35,
     "metadata": {},
     "output_type": "execute_result"
    }
   ],
   "source": [
    "coeff_parameter = pd.DataFrame(model.coef_,X.columns,columns=['Coefficient'])\n",
    "coeff_parameter"
   ]
  },
  {
   "cell_type": "markdown",
   "id": "d0041a80",
   "metadata": {},
   "source": [
    "#### Modelo Predictivo"
   ]
  },
  {
   "cell_type": "code",
   "execution_count": 37,
   "id": "1fd70c32",
   "metadata": {},
   "outputs": [
    {
     "data": {
      "text/plain": [
       "array([1.19157961, 1.19157961, 1.18441997, ..., 1.19157961, 1.19157961,\n",
       "       1.161426  ])"
      ]
     },
     "execution_count": 37,
     "metadata": {},
     "output_type": "execute_result"
    }
   ],
   "source": [
    "predictions = model.predict(X_test)\n",
    "predictions"
   ]
  },
  {
   "cell_type": "code",
   "execution_count": 38,
   "id": "e002f58c",
   "metadata": {},
   "outputs": [
    {
     "name": "stderr",
     "output_type": "stream",
     "text": [
      "C:\\ProgramData\\Anaconda3\\lib\\site-packages\\seaborn\\_decorators.py:36: FutureWarning: Pass the following variables as keyword args: x, y. From version 0.12, the only valid positional argument will be `data`, and passing other arguments without an explicit keyword will result in an error or misinterpretation.\n",
      "  warnings.warn(\n"
     ]
    },
    {
     "data": {
      "text/plain": [
       "<AxesSubplot:xlabel='cantidad'>"
      ]
     },
     "execution_count": 38,
     "metadata": {},
     "output_type": "execute_result"
    },
    {
     "data": {
      "image/png": "[encoded data removed]",
      "text/plain": [
       "<Figure size 1440x288 with 1 Axes>"
      ]
     },
     "metadata": {
      "needs_background": "light"
     },
     "output_type": "display_data"
    }
   ],
   "source": [
    "sns.regplot(y_test,predictions)"
   ]
  },
  {
   "cell_type": "markdown",
   "id": "e9a9ed00",
   "metadata": {},
   "source": [
    "#### Metrica R2"
   ]
  },
  {
   "cell_type": "code",
   "execution_count": 39,
   "id": "3dbaee79",
   "metadata": {},
   "outputs": [
    {
     "name": "stdout",
     "output_type": "stream",
     "text": [
      "0.00018051191666779154\n"
     ]
    }
   ],
   "source": [
    "from sklearn.metrics import r2_score\n",
    "y_pred = model.predict(X_test)\n",
    "r2 = r2_score(y_test,y_pred)\n",
    "print(r2)"
   ]
  },
  {
   "cell_type": "markdown",
   "id": "557da851",
   "metadata": {},
   "source": [
    "#### Valores Rsquare"
   ]
  },
  {
   "cell_type": "code",
   "execution_count": 40,
   "id": "7daeaab5",
   "metadata": {},
   "outputs": [
    {
     "name": "stdout",
     "output_type": "stream",
     "text": [
      "                            OLS Regression Results                            \n",
      "==============================================================================\n",
      "Dep. Variable:               cantidad   R-squared:                       0.000\n",
      "Model:                            OLS   Adj. R-squared:                  0.000\n",
      "Method:                 Least Squares   F-statistic:                     5.141\n",
      "Date:                Tue, 06 Jun 2023   Prob (F-statistic):            0.00149\n",
      "Time:                        16:36:24   Log-Likelihood:                -63234.\n",
      "No. Observations:               61996   AIC:                         1.265e+05\n",
      "Df Residuals:                   61992   BIC:                         1.265e+05\n",
      "Df Model:                           3                                         \n",
      "Covariance Type:            nonrobust                                         \n",
      "==============================================================================================\n",
      "                                 coef    std err          t      P>|t|      [0.025      0.975]\n",
      "----------------------------------------------------------------------------------------------\n",
      "const                          1.0310      0.059     17.451      0.000       0.915       1.147\n",
      "tipo_Hurto (sin violencia)     0.1606      0.059      2.711      0.007       0.044       0.277\n",
      "tipo_Lesiones                  0.1304      0.060      2.179      0.029       0.013       0.248\n",
      "tipo_Robo (con violencia)      0.1534      0.059      2.591      0.010       0.037       0.269\n",
      "==============================================================================\n",
      "Omnibus:                    54728.880   Durbin-Watson:                   2.002\n",
      "Prob(Omnibus):                  0.000   Jarque-Bera (JB):          1299499.640\n",
      "Skew:                           4.435   Prob(JB):                         0.00\n",
      "Kurtosis:                      23.600   Cond. No.                         52.7\n",
      "==============================================================================\n",
      "\n",
      "Notes:\n",
      "[1] Standard Errors assume that the covariance matrix of the errors is correctly specified.\n"
     ]
    }
   ],
   "source": [
    "import statsmodels.api as sm\n",
    "X_train_Sm= sm.add_constant(X_train)\n",
    "X_train_Sm= sm.add_constant(X_train)\n",
    "ls=sm.OLS(y_train,X_train_Sm).fit()\n",
    "print(ls.summary())"
   ]
  },
  {
   "cell_type": "code",
   "execution_count": null,
   "id": "828d7e5f",
   "metadata": {},
   "outputs": [],
   "source": []
  }
 ],
 "metadata": {
  "kernelspec": {
   "display_name": "Python 3 (ipykernel)",
   "language": "python",
   "name": "python3"
  },
  "language_info": {
   "codemirror_mode": {
    "name": "ipython",
    "version": 3
   },
   "file_extension": ".py",
   "mimetype": "text/x-python",
   "name": "python",
   "nbconvert_exporter": "python",
   "pygments_lexer": "ipython3",
   "version": "3.9.12"
  }
 },
 "nbformat": 4,
 "nbformat_minor": 5
}
