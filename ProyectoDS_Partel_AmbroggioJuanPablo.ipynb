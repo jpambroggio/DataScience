{
 "cells": [
  {
   "cell_type": "markdown",
   "id": "97ccf1af",
   "metadata": {},
   "source": [
    "**Proyecto Data Science (Delitos 2021)**\n",
    "\n",
    "Contamos con un informe donde se muestra los delitos denunciados en la ciudad de Buenos Aires durante el año 2021, en el cual clasifica fecha, dia, franja (Horario),zona, tipo de delito, cantidad de delitos. Un analisis, para poder comprarar la zona mas caliente (peligrosa), y los tipo de delitos que ocurren alli. Esto sumando que se pueden tomar decisiones politicas sobre seguridad, en dias y horarios mas problematicos.\n",
    "\n",
    "                                                  fuente: https://data.buenosaires.gob.ar/dataset/"
   ]
  },
  {
   "cell_type": "markdown",
   "id": "e89c117a",
   "metadata": {},
   "source": [
    "Presentacion del Dataset (Delitos 2021)"
   ]
  },
  {
   "cell_type": "code",
   "execution_count": 12,
   "id": "047ff46e",
   "metadata": {},
   "outputs": [
    {
     "data": {
      "text/html": [
       "<div>\n",
       "<style scoped>\n",
       "    .dataframe tbody tr th:only-of-type {\n",
       "        vertical-align: middle;\n",
       "    }\n",
       "\n",
       "    .dataframe tbody tr th {\n",
       "        vertical-align: top;\n",
       "    }\n",
       "\n",
       "    .dataframe thead th {\n",
       "        text-align: right;\n",
       "    }\n",
       "</style>\n",
       "<table border=\"1\" class=\"dataframe\">\n",
       "  <thead>\n",
       "    <tr style=\"text-align: right;\">\n",
       "      <th></th>\n",
       "      <th>id-mapa</th>\n",
       "      <th>anio</th>\n",
       "      <th>mes</th>\n",
       "      <th>dia</th>\n",
       "      <th>fecha</th>\n",
       "      <th>franja</th>\n",
       "      <th>tipo</th>\n",
       "      <th>subtipo</th>\n",
       "      <th>uso_armas</th>\n",
       "      <th>barrio</th>\n",
       "      <th>comuna</th>\n",
       "      <th>latitud</th>\n",
       "      <th>longitud</th>\n",
       "      <th>cantidad</th>\n",
       "    </tr>\n",
       "  </thead>\n",
       "  <tbody>\n",
       "    <tr>\n",
       "      <th>0</th>\n",
       "      <td>HC-2021-1008202</td>\n",
       "      <td>2021</td>\n",
       "      <td>Enero</td>\n",
       "      <td>Miércoles</td>\n",
       "      <td>06/01/2021</td>\n",
       "      <td>18</td>\n",
       "      <td>Homicidio</td>\n",
       "      <td>Siniestro Vial</td>\n",
       "      <td>NaN</td>\n",
       "      <td>Constitución</td>\n",
       "      <td>1.0</td>\n",
       "      <td>-34,62761</td>\n",
       "      <td>-58,379146</td>\n",
       "      <td>1.0</td>\n",
       "    </tr>\n",
       "    <tr>\n",
       "      <th>1</th>\n",
       "      <td>HC-2021-1009094</td>\n",
       "      <td>2021</td>\n",
       "      <td>Enero</td>\n",
       "      <td>Jueves</td>\n",
       "      <td>07/01/2021</td>\n",
       "      <td>10</td>\n",
       "      <td>Homicidio</td>\n",
       "      <td>Siniestro Vial</td>\n",
       "      <td>NaN</td>\n",
       "      <td>Mataderos</td>\n",
       "      <td>9.0</td>\n",
       "      <td>-34,64972969</td>\n",
       "      <td>-58,51058958</td>\n",
       "      <td>1.0</td>\n",
       "    </tr>\n",
       "    <tr>\n",
       "      <th>2</th>\n",
       "      <td>HC-2021-1013236</td>\n",
       "      <td>2021</td>\n",
       "      <td>Enero</td>\n",
       "      <td>Domingo</td>\n",
       "      <td>10/01/2021</td>\n",
       "      <td>7</td>\n",
       "      <td>Homicidio</td>\n",
       "      <td>Siniestro Vial</td>\n",
       "      <td>NaN</td>\n",
       "      <td>Parque Chacabuco</td>\n",
       "      <td>7.0</td>\n",
       "      <td>-34,62917196</td>\n",
       "      <td>-58,43058079</td>\n",
       "      <td>1.0</td>\n",
       "    </tr>\n",
       "    <tr>\n",
       "      <th>3</th>\n",
       "      <td>HC-2021-1014154</td>\n",
       "      <td>2021</td>\n",
       "      <td>Enero</td>\n",
       "      <td>Lunes</td>\n",
       "      <td>11/01/2021</td>\n",
       "      <td>9</td>\n",
       "      <td>Homicidio</td>\n",
       "      <td>Siniestro Vial</td>\n",
       "      <td>NaN</td>\n",
       "      <td>Nueva Pompeya</td>\n",
       "      <td>5.0</td>\n",
       "      <td>-34,63867577</td>\n",
       "      <td>-58,4145554</td>\n",
       "      <td>1.0</td>\n",
       "    </tr>\n",
       "    <tr>\n",
       "      <th>4</th>\n",
       "      <td>HC-2021-1015476</td>\n",
       "      <td>2021</td>\n",
       "      <td>Enero</td>\n",
       "      <td>Lunes</td>\n",
       "      <td>11/01/2021</td>\n",
       "      <td>21</td>\n",
       "      <td>Homicidio</td>\n",
       "      <td>Siniestro Vial</td>\n",
       "      <td>NaN</td>\n",
       "      <td>Parque Avellaneda</td>\n",
       "      <td>9.0</td>\n",
       "      <td>-34,64771436</td>\n",
       "      <td>-58,46806552</td>\n",
       "      <td>1.0</td>\n",
       "    </tr>\n",
       "  </tbody>\n",
       "</table>\n",
       "</div>"
      ],
      "text/plain": [
       "           id-mapa  anio    mes        dia       fecha franja       tipo  \\\n",
       "0  HC-2021-1008202  2021  Enero  Miércoles  06/01/2021     18  Homicidio   \n",
       "1  HC-2021-1009094  2021  Enero     Jueves  07/01/2021     10  Homicidio   \n",
       "2  HC-2021-1013236  2021  Enero    Domingo  10/01/2021      7  Homicidio   \n",
       "3  HC-2021-1014154  2021  Enero      Lunes  11/01/2021      9  Homicidio   \n",
       "4  HC-2021-1015476  2021  Enero      Lunes  11/01/2021     21  Homicidio   \n",
       "\n",
       "          subtipo uso_armas             barrio  comuna       latitud  \\\n",
       "0  Siniestro Vial       NaN       Constitución     1.0     -34,62761   \n",
       "1  Siniestro Vial       NaN          Mataderos     9.0  -34,64972969   \n",
       "2  Siniestro Vial       NaN   Parque Chacabuco     7.0  -34,62917196   \n",
       "3  Siniestro Vial       NaN      Nueva Pompeya     5.0  -34,63867577   \n",
       "4  Siniestro Vial       NaN  Parque Avellaneda     9.0  -34,64771436   \n",
       "\n",
       "       longitud  cantidad  \n",
       "0    -58,379146       1.0  \n",
       "1  -58,51058958       1.0  \n",
       "2  -58,43058079       1.0  \n",
       "3   -58,4145554       1.0  \n",
       "4  -58,46806552       1.0  "
      ]
     },
     "execution_count": 12,
     "metadata": {},
     "output_type": "execute_result"
    }
   ],
   "source": [
    "\n",
    "import matplotlib as mpl\n",
    "import matplotlib.pyplot as plt\n",
    "import seaborn as sns\n",
    "import pandas as pd\n",
    "\n",
    "df_delito = pd.read_csv('delitos_2021.csv', sep=\";\")\n",
    "\n",
    "df_delito.head()\n"
   ]
  },
  {
   "cell_type": "markdown",
   "id": "f5b8e513",
   "metadata": {},
   "source": [
    "\n",
    "Muestra de cantidad de registros y columnas.\n"
   ]
  },
  {
   "cell_type": "code",
   "execution_count": 13,
   "id": "51bb9d5c",
   "metadata": {},
   "outputs": [
    {
     "data": {
      "text/plain": [
       "(88567, 14)"
      ]
     },
     "execution_count": 13,
     "metadata": {},
     "output_type": "execute_result"
    }
   ],
   "source": [
    "df_delito.shape"
   ]
  },
  {
   "cell_type": "markdown",
   "id": "2d987560",
   "metadata": {},
   "source": [
    "\n",
    "Muestra de Valores y tipo de datos.\n"
   ]
  },
  {
   "cell_type": "code",
   "execution_count": 14,
   "id": "904dcc9b",
   "metadata": {},
   "outputs": [
    {
     "data": {
      "text/plain": [
       "id-mapa       object\n",
       "anio           int64\n",
       "mes           object\n",
       "dia           object\n",
       "fecha         object\n",
       "franja        object\n",
       "tipo          object\n",
       "subtipo       object\n",
       "uso_armas     object\n",
       "barrio        object\n",
       "comuna       float64\n",
       "latitud       object\n",
       "longitud      object\n",
       "cantidad     float64\n",
       "dtype: object"
      ]
     },
     "execution_count": 14,
     "metadata": {},
     "output_type": "execute_result"
    }
   ],
   "source": [
    "df_delito.dtypes"
   ]
  },
  {
   "cell_type": "markdown",
   "id": "992964f8",
   "metadata": {},
   "source": [
    "**Grafico**\n",
    "\n",
    "El grafico, muestra la cantidad de delitos que se cometieron durante el 2021 (Totales), segun si se ejercicio violencia, y que tipo de violencia."
   ]
  },
  {
   "cell_type": "code",
   "execution_count": 17,
   "id": "f3c8620e",
   "metadata": {},
   "outputs": [
    {
     "data": {
      "image/png": "[encoded data removed]",
      "text/plain": [
       "<Figure size 1440x288 with 1 Axes>"
      ]
     },
     "metadata": {
      "needs_background": "light"
     },
     "output_type": "display_data"
    }
   ],
   "source": [
    "df_delito = pd.read_csv('delitos_2021.csv', sep=\";\", usecols=['anio','mes','dia','fecha','tipo','subtipo','barrio','cantidad'])\n",
    "\n",
    "\n",
    "x_datos = df_delito.tipo.unique()\n",
    "\n",
    "y_datos = df_delito.tipo.value_counts().tolist()\n",
    "\n",
    "bar_colors = ['tab:orange', 'tab:blue', 'tab:red', 'tab:purple']\n",
    "\n",
    "plt.bar(x_datos, y_datos, color = bar_colors)\n",
    "\n",
    "plt.title('Cantidad de Robos por Tipo de Violencia (2021)')\n",
    "\n",
    "ax = plt.subplot() \n",
    "\n",
    "ax.set_xlabel('Tipo de Robo')\n",
    "\n",
    "ax.set_ylabel('Cantidad')\n",
    "\n",
    "\n",
    "plt.rcParams['figure.figsize'] = (20, 4)\n",
    "\n",
    "for x,y in enumerate(y_datos):\n",
    "    plt.text(x, y-38, '%s' %round(y,1), ha='center',fontsize=18,color = 'blue')\n",
    "\n",
    "\n",
    "plt.show()\n"
   ]
  },
  {
   "cell_type": "markdown",
   "id": "2fdb08fd",
   "metadata": {},
   "source": [
    "\n",
    "En el siguiente grafico, se muestra la cantidad de delitos cometidos por mes (Totales)\n"
   ]
  },
  {
   "cell_type": "code",
   "execution_count": 19,
   "id": "26edb0bf",
   "metadata": {},
   "outputs": [
    {
     "data": {
      "image/png": "[encoded data removed]",
      "text/plain": [
       "<Figure size 1440x288 with 1 Axes>"
      ]
     },
     "metadata": {
      "needs_background": "light"
     },
     "output_type": "display_data"
    }
   ],
   "source": [
    "x_datos = df_delito.mes.unique()\n",
    "\n",
    "y_datos = df_delito.mes.value_counts().tolist()\n",
    "\n",
    "plt.bar(x_datos, y_datos)\n",
    "\n",
    "plt.title('Cantidad de Robos Mensuales(2021)')\n",
    "\n",
    "ax = plt.subplot() \n",
    "\n",
    "ax.set_xlabel('Meses')\n",
    "\n",
    "ax.set_ylabel('Cantidad')\n",
    "\n",
    "plt.rcParams['figure.figsize'] = (20, 4)\n",
    "\n",
    "\n",
    "\n",
    "\n",
    "for x,y in enumerate(y_datos):\n",
    "    plt.text(x, y-38, '%s' %round(y,1), ha='center',fontsize=14,color = 'blue')\n",
    "plt.show()"
   ]
  },
  {
   "cell_type": "code",
   "execution_count": null,
   "id": "ce4d98c2",
   "metadata": {},
   "outputs": [],
   "source": []
  }
 ],
 "metadata": {
  "kernelspec": {
   "display_name": "Python 3 (ipykernel)",
   "language": "python",
   "name": "python3"
  },
  "language_info": {
   "codemirror_mode": {
    "name": "ipython",
    "version": 3
   },
   "file_extension": ".py",
   "mimetype": "text/x-python",
   "name": "python",
   "nbconvert_exporter": "python",
   "pygments_lexer": "ipython3",
   "version": "3.9.12"
  }
 },
 "nbformat": 4,
 "nbformat_minor": 5
}
